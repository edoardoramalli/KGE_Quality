{
 "cells": [
  {
   "cell_type": "code",
   "execution_count": 24,
   "outputs": [
    {
     "data": {
      "text/plain": "       name     order      size  max_degree  mean_degree  diameter  girth  \\\n0    WN18RR   40559.0   74066.0       515.0     3.652260      21.0    3.0   \n1      WN18   40943.0  121153.0       906.0     5.918130      18.0    3.0   \n2     FB15k   14951.0  473770.0      9621.0    63.376363       8.0    3.0   \n3  FB15k237   14505.0  248063.0      6879.0    34.203792       8.0    3.0   \n4   YAGO310  123143.0  871200.0     58196.0    14.149404      12.0    3.0   \n\n   radius  average_path_length  clique_number  ...  mean_constraint  \\\n0     1.0             8.517564            4.0  ...         0.566231   \n1     1.0             7.635398            4.0  ...         0.500288   \n2     0.0             2.773833           24.0  ...         0.135685   \n3     0.0             2.853156           21.0  ...         0.141235   \n4     1.0             3.494854           17.0  ...         0.244079   \n\n   max_coreness  mean_coreness  min_eccentricity  max_eccentricity  \\\n0           6.0       2.152790               1.0              21.0   \n1           7.0       3.380920               1.0              18.0   \n2          99.0      33.317771               0.0               8.0   \n3          61.0      18.063771               0.0               8.0   \n4          42.0       7.401558               1.0              12.0   \n\n   mean_eccentricity  max_strength  mean_strength  \\\n0          14.959466         515.0       3.652260   \n1          13.417263         906.0       5.918130   \n2           5.911310        9621.0      63.376363   \n3           5.519821        6879.0      34.203792   \n4           7.539868       58196.0      14.149404   \n\n   connected_components_strong  connected_components_weak  \n0                        122.0                      122.0  \n1                         22.0                       22.0  \n2                          9.0                        9.0  \n3                          7.0                        7.0  \n4                         27.0                       27.0  \n\n[5 rows x 41 columns]",
      "text/html": "<div>\n<style scoped>\n    .dataframe tbody tr th:only-of-type {\n        vertical-align: middle;\n    }\n\n    .dataframe tbody tr th {\n        vertical-align: top;\n    }\n\n    .dataframe thead th {\n        text-align: right;\n    }\n</style>\n<table border=\"1\" class=\"dataframe\">\n  <thead>\n    <tr style=\"text-align: right;\">\n      <th></th>\n      <th>name</th>\n      <th>order</th>\n      <th>size</th>\n      <th>max_degree</th>\n      <th>mean_degree</th>\n      <th>diameter</th>\n      <th>girth</th>\n      <th>radius</th>\n      <th>average_path_length</th>\n      <th>clique_number</th>\n      <th>...</th>\n      <th>mean_constraint</th>\n      <th>max_coreness</th>\n      <th>mean_coreness</th>\n      <th>min_eccentricity</th>\n      <th>max_eccentricity</th>\n      <th>mean_eccentricity</th>\n      <th>max_strength</th>\n      <th>mean_strength</th>\n      <th>connected_components_strong</th>\n      <th>connected_components_weak</th>\n    </tr>\n  </thead>\n  <tbody>\n    <tr>\n      <th>0</th>\n      <td>WN18RR</td>\n      <td>40559.0</td>\n      <td>74066.0</td>\n      <td>515.0</td>\n      <td>3.652260</td>\n      <td>21.0</td>\n      <td>3.0</td>\n      <td>1.0</td>\n      <td>8.517564</td>\n      <td>4.0</td>\n      <td>...</td>\n      <td>0.566231</td>\n      <td>6.0</td>\n      <td>2.152790</td>\n      <td>1.0</td>\n      <td>21.0</td>\n      <td>14.959466</td>\n      <td>515.0</td>\n      <td>3.652260</td>\n      <td>122.0</td>\n      <td>122.0</td>\n    </tr>\n    <tr>\n      <th>1</th>\n      <td>WN18</td>\n      <td>40943.0</td>\n      <td>121153.0</td>\n      <td>906.0</td>\n      <td>5.918130</td>\n      <td>18.0</td>\n      <td>3.0</td>\n      <td>1.0</td>\n      <td>7.635398</td>\n      <td>4.0</td>\n      <td>...</td>\n      <td>0.500288</td>\n      <td>7.0</td>\n      <td>3.380920</td>\n      <td>1.0</td>\n      <td>18.0</td>\n      <td>13.417263</td>\n      <td>906.0</td>\n      <td>5.918130</td>\n      <td>22.0</td>\n      <td>22.0</td>\n    </tr>\n    <tr>\n      <th>2</th>\n      <td>FB15k</td>\n      <td>14951.0</td>\n      <td>473770.0</td>\n      <td>9621.0</td>\n      <td>63.376363</td>\n      <td>8.0</td>\n      <td>3.0</td>\n      <td>0.0</td>\n      <td>2.773833</td>\n      <td>24.0</td>\n      <td>...</td>\n      <td>0.135685</td>\n      <td>99.0</td>\n      <td>33.317771</td>\n      <td>0.0</td>\n      <td>8.0</td>\n      <td>5.911310</td>\n      <td>9621.0</td>\n      <td>63.376363</td>\n      <td>9.0</td>\n      <td>9.0</td>\n    </tr>\n    <tr>\n      <th>3</th>\n      <td>FB15k237</td>\n      <td>14505.0</td>\n      <td>248063.0</td>\n      <td>6879.0</td>\n      <td>34.203792</td>\n      <td>8.0</td>\n      <td>3.0</td>\n      <td>0.0</td>\n      <td>2.853156</td>\n      <td>21.0</td>\n      <td>...</td>\n      <td>0.141235</td>\n      <td>61.0</td>\n      <td>18.063771</td>\n      <td>0.0</td>\n      <td>8.0</td>\n      <td>5.519821</td>\n      <td>6879.0</td>\n      <td>34.203792</td>\n      <td>7.0</td>\n      <td>7.0</td>\n    </tr>\n    <tr>\n      <th>4</th>\n      <td>YAGO310</td>\n      <td>123143.0</td>\n      <td>871200.0</td>\n      <td>58196.0</td>\n      <td>14.149404</td>\n      <td>12.0</td>\n      <td>3.0</td>\n      <td>1.0</td>\n      <td>3.494854</td>\n      <td>17.0</td>\n      <td>...</td>\n      <td>0.244079</td>\n      <td>42.0</td>\n      <td>7.401558</td>\n      <td>1.0</td>\n      <td>12.0</td>\n      <td>7.539868</td>\n      <td>58196.0</td>\n      <td>14.149404</td>\n      <td>27.0</td>\n      <td>27.0</td>\n    </tr>\n  </tbody>\n</table>\n<p>5 rows × 41 columns</p>\n</div>"
     },
     "execution_count": 24,
     "metadata": {},
     "output_type": "execute_result"
    }
   ],
   "source": [
    "import pandas as pd\n",
    "metrics = pd.read_csv(\"all_metrics.csv\")\n",
    "metrics"
   ],
   "metadata": {
    "collapsed": false
   }
  },
  {
   "cell_type": "code",
   "execution_count": 2,
   "metadata": {
    "collapsed": true
   },
   "outputs": [],
   "source": [
    "import pandas as pd\n",
    "\n",
    "metrics_1 = pd.read_csv(\"metricsWN18RR.csv\",header=None)\n",
    "metrics_2 = pd.read_csv(\"metricsWN18.csv\",header=None)\n",
    "metrics_3 = pd.read_csv(\"metricsFB15k.csv\",header=None)\n",
    "metrics_4 = pd.read_csv(\"metricsFB15k237.csv\",header=None)\n",
    "metrics_5 = pd.read_csv(\"metricsYAGO310.csv\",header=None)\n",
    "\n",
    "metrics = [metrics_1, metrics_2, metrics_3, metrics_4, metrics_5]"
   ]
  },
  {
   "cell_type": "code",
   "execution_count": 3,
   "outputs": [
    {
     "name": "stdout",
     "output_type": "stream",
     "text": [
      "WN18RR time: 11.546506293614705 minutes\n",
      "WN18 time: 29.96607086658478 minutes\n",
      "FB15k time: 7.6074340581893924 minutes\n",
      "FB15k237 time: 5.501076634724935 minutes\n",
      "YAGO310 time: 3.9578015477127497 hours\n"
     ]
    }
   ],
   "source": [
    "print(\"WN18RR time: \"+str(metrics_1[2].sum()/60)+\" minutes\")\n",
    "print(\"WN18 time: \"+str(metrics_2[2].sum()/60)+\" minutes\")\n",
    "print(\"FB15k time: \"+str(metrics_3[2].sum()/60)+\" minutes\")\n",
    "print(\"FB15k237 time: \"+str(metrics_4[2].sum()/60)+\" minutes\")\n",
    "print(\"YAGO310 time: \"+str((metrics_5[2].sum()/60)/60)+\" hours\")"
   ],
   "metadata": {
    "collapsed": false
   }
  },
  {
   "cell_type": "code",
   "execution_count": 4,
   "outputs": [],
   "source": [
    "new_metrics = []\n",
    "for m in metrics:\n",
    "    m = m.transpose()\n",
    "    m.columns = m.iloc[0]\n",
    "    m = m.drop(m.index[0])\n",
    "    m = m.drop(m.index[1])\n",
    "    new_metrics.append(m)"
   ],
   "metadata": {
    "collapsed": false
   }
  },
  {
   "cell_type": "code",
   "execution_count": 5,
   "outputs": [
    {
     "name": "stdout",
     "output_type": "stream",
     "text": [
      "0    order     size max_degree min_degree mean_degree diameter girth radius  \\\n",
      "1  40559.0  74066.0      515.0        1.0     3.65226     21.0   3.0    1.0   \n",
      "\n",
      "0 average_path_length clique_number  ... max_eccentricity mean_eccentricity  \\\n",
      "1            8.517564           4.0  ...             21.0         14.959466   \n",
      "\n",
      "0 min_strength max_strength mean_strength min_transitivity max_transitivity  \\\n",
      "1          1.0        515.0       3.65226              0.0              1.0   \n",
      "\n",
      "0 mean_transitivity connected_components_strong connected_components_weak  \n",
      "1               NaN                       122.0                     122.0  \n",
      "\n",
      "[1 rows x 53 columns]\n",
      "0    order      size max_degree min_degree mean_degree diameter girth radius  \\\n",
      "1  40943.0  121153.0      906.0        1.0     5.91813     18.0   3.0    1.0   \n",
      "\n",
      "0 average_path_length clique_number  ... max_eccentricity mean_eccentricity  \\\n",
      "1            7.635398           4.0  ...             18.0         13.417263   \n",
      "\n",
      "0 min_strength max_strength mean_strength min_transitivity max_transitivity  \\\n",
      "1          1.0        906.0       5.91813              0.0              1.0   \n",
      "\n",
      "0 mean_transitivity connected_components_strong connected_components_weak  \n",
      "1               NaN                        22.0                      22.0  \n",
      "\n",
      "[1 rows x 53 columns]\n",
      "0    order      size max_degree min_degree mean_degree diameter girth radius  \\\n",
      "1  14951.0  473770.0     9621.0        1.0   63.376363      8.0   3.0    0.0   \n",
      "\n",
      "0 average_path_length clique_number  ... max_eccentricity mean_eccentricity  \\\n",
      "1            2.773833          24.0  ...              8.0           5.91131   \n",
      "\n",
      "0 min_strength max_strength mean_strength min_transitivity max_transitivity  \\\n",
      "1          1.0       9621.0     63.376363              0.0              1.0   \n",
      "\n",
      "0 mean_transitivity connected_components_strong connected_components_weak  \n",
      "1               NaN                         9.0                       9.0  \n",
      "\n",
      "[1 rows x 53 columns]\n",
      "0    order      size max_degree min_degree mean_degree diameter girth radius  \\\n",
      "1  14505.0  248063.0     6879.0        1.0   34.203792      8.0   3.0    0.0   \n",
      "\n",
      "0 average_path_length clique_number  ... max_eccentricity mean_eccentricity  \\\n",
      "1            2.853156          21.0  ...              8.0          5.519821   \n",
      "\n",
      "0 min_strength max_strength mean_strength min_transitivity max_transitivity  \\\n",
      "1          1.0       6879.0     34.203792              0.0              1.0   \n",
      "\n",
      "0 mean_transitivity connected_components_strong connected_components_weak  \n",
      "1               NaN                         7.0                       7.0  \n",
      "\n",
      "[1 rows x 53 columns]\n",
      "0     order      size max_degree min_degree mean_degree diameter girth radius  \\\n",
      "1  123143.0  871200.0    58196.0        1.0   14.149404     12.0   3.0    1.0   \n",
      "\n",
      "0 average_path_length clique_number  ... max_eccentricity mean_eccentricity  \\\n",
      "1            3.494854          17.0  ...             12.0          7.539868   \n",
      "\n",
      "0 min_strength max_strength mean_strength min_transitivity max_transitivity  \\\n",
      "1          1.0      58196.0     14.149404              0.0              1.0   \n",
      "\n",
      "0 mean_transitivity connected_components_strong connected_components_weak  \n",
      "1               NaN                        27.0                      27.0  \n",
      "\n",
      "[1 rows x 53 columns]\n"
     ]
    }
   ],
   "source": [
    "for m in new_metrics:\n",
    "    print(m)"
   ],
   "metadata": {
    "collapsed": false
   }
  },
  {
   "cell_type": "code",
   "execution_count": 6,
   "outputs": [
    {
     "data": {
      "text/plain": "Empty DataFrame\nColumns: [order, size, max_degree, min_degree, mean_degree, diameter, girth, radius, average_path_length, clique_number, len_maximal_cliques, len_largest_cliques, motifs_randesu_no, num_farthest_points, mincut_value, len_feedback_arc_set, assortativity_degree, density, transitivity_undirected, reciprocity, min_diversity, max_diversity, mean_diversity, min_authority_score, max_authority_score, mean_authority_score, min_hub_score, max_hub_score, mean_hub_score, min_closeness, max_closeness, mean_closeness, max_bibcoupling, min_bibcoupling, max_cocitation, min_cocitation, min_constraint, max_constraint, mean_constraint, min_coreness, max_coreness, mean_coreness, min_eccentricity, max_eccentricity, mean_eccentricity, min_strength, max_strength, mean_strength, min_transitivity, max_transitivity, mean_transitivity, connected_components_strong, connected_components_weak]\nIndex: []\n\n[0 rows x 53 columns]",
      "text/html": "<div>\n<style scoped>\n    .dataframe tbody tr th:only-of-type {\n        vertical-align: middle;\n    }\n\n    .dataframe tbody tr th {\n        vertical-align: top;\n    }\n\n    .dataframe thead th {\n        text-align: right;\n    }\n</style>\n<table border=\"1\" class=\"dataframe\">\n  <thead>\n    <tr style=\"text-align: right;\">\n      <th></th>\n      <th>order</th>\n      <th>size</th>\n      <th>max_degree</th>\n      <th>min_degree</th>\n      <th>mean_degree</th>\n      <th>diameter</th>\n      <th>girth</th>\n      <th>radius</th>\n      <th>average_path_length</th>\n      <th>clique_number</th>\n      <th>...</th>\n      <th>max_eccentricity</th>\n      <th>mean_eccentricity</th>\n      <th>min_strength</th>\n      <th>max_strength</th>\n      <th>mean_strength</th>\n      <th>min_transitivity</th>\n      <th>max_transitivity</th>\n      <th>mean_transitivity</th>\n      <th>connected_components_strong</th>\n      <th>connected_components_weak</th>\n    </tr>\n  </thead>\n  <tbody>\n  </tbody>\n</table>\n<p>0 rows × 53 columns</p>\n</div>"
     },
     "execution_count": 6,
     "metadata": {},
     "output_type": "execute_result"
    }
   ],
   "source": [
    "new_dataframe = pd.DataFrame([],columns=m.columns)\n",
    "new_dataframe"
   ],
   "metadata": {
    "collapsed": false
   }
  },
  {
   "cell_type": "code",
   "execution_count": 7,
   "outputs": [],
   "source": [
    "for m in new_metrics:\n",
    "    new_dataframe.loc[len(new_dataframe.index)] = m.iloc[0]"
   ],
   "metadata": {
    "collapsed": false
   }
  },
  {
   "cell_type": "code",
   "execution_count": 12,
   "outputs": [
    {
     "data": {
      "text/plain": "0     order      size max_degree min_degree mean_degree diameter girth radius  \\\n0   40559.0   74066.0      515.0        1.0     3.65226     21.0   3.0    1.0   \n1   40943.0  121153.0      906.0        1.0     5.91813     18.0   3.0    1.0   \n2   14951.0  473770.0     9621.0        1.0   63.376363      8.0   3.0    0.0   \n3   14505.0  248063.0     6879.0        1.0   34.203792      8.0   3.0    0.0   \n4  123143.0  871200.0    58196.0        1.0   14.149404     12.0   3.0    1.0   \n\n0 average_path_length clique_number  ... max_eccentricity mean_eccentricity  \\\n0            8.517564           4.0  ...             21.0         14.959466   \n1            7.635398           4.0  ...             18.0         13.417263   \n2            2.773833          24.0  ...              8.0           5.91131   \n3            2.853156          21.0  ...              8.0          5.519821   \n4            3.494854          17.0  ...             12.0          7.539868   \n\n0 min_strength max_strength mean_strength min_transitivity max_transitivity  \\\n0          1.0        515.0       3.65226              0.0              1.0   \n1          1.0        906.0       5.91813              0.0              1.0   \n2          1.0       9621.0     63.376363              0.0              1.0   \n3          1.0       6879.0     34.203792              0.0              1.0   \n4          1.0      58196.0     14.149404              0.0              1.0   \n\n0 mean_transitivity connected_components_strong connected_components_weak  \n0               NaN                       122.0                     122.0  \n1               NaN                        22.0                      22.0  \n2               NaN                         9.0                       9.0  \n3               NaN                         7.0                       7.0  \n4               NaN                        27.0                      27.0  \n\n[5 rows x 53 columns]",
      "text/html": "<div>\n<style scoped>\n    .dataframe tbody tr th:only-of-type {\n        vertical-align: middle;\n    }\n\n    .dataframe tbody tr th {\n        vertical-align: top;\n    }\n\n    .dataframe thead th {\n        text-align: right;\n    }\n</style>\n<table border=\"1\" class=\"dataframe\">\n  <thead>\n    <tr style=\"text-align: right;\">\n      <th></th>\n      <th>order</th>\n      <th>size</th>\n      <th>max_degree</th>\n      <th>min_degree</th>\n      <th>mean_degree</th>\n      <th>diameter</th>\n      <th>girth</th>\n      <th>radius</th>\n      <th>average_path_length</th>\n      <th>clique_number</th>\n      <th>...</th>\n      <th>max_eccentricity</th>\n      <th>mean_eccentricity</th>\n      <th>min_strength</th>\n      <th>max_strength</th>\n      <th>mean_strength</th>\n      <th>min_transitivity</th>\n      <th>max_transitivity</th>\n      <th>mean_transitivity</th>\n      <th>connected_components_strong</th>\n      <th>connected_components_weak</th>\n    </tr>\n  </thead>\n  <tbody>\n    <tr>\n      <th>0</th>\n      <td>40559.0</td>\n      <td>74066.0</td>\n      <td>515.0</td>\n      <td>1.0</td>\n      <td>3.65226</td>\n      <td>21.0</td>\n      <td>3.0</td>\n      <td>1.0</td>\n      <td>8.517564</td>\n      <td>4.0</td>\n      <td>...</td>\n      <td>21.0</td>\n      <td>14.959466</td>\n      <td>1.0</td>\n      <td>515.0</td>\n      <td>3.65226</td>\n      <td>0.0</td>\n      <td>1.0</td>\n      <td>NaN</td>\n      <td>122.0</td>\n      <td>122.0</td>\n    </tr>\n    <tr>\n      <th>1</th>\n      <td>40943.0</td>\n      <td>121153.0</td>\n      <td>906.0</td>\n      <td>1.0</td>\n      <td>5.91813</td>\n      <td>18.0</td>\n      <td>3.0</td>\n      <td>1.0</td>\n      <td>7.635398</td>\n      <td>4.0</td>\n      <td>...</td>\n      <td>18.0</td>\n      <td>13.417263</td>\n      <td>1.0</td>\n      <td>906.0</td>\n      <td>5.91813</td>\n      <td>0.0</td>\n      <td>1.0</td>\n      <td>NaN</td>\n      <td>22.0</td>\n      <td>22.0</td>\n    </tr>\n    <tr>\n      <th>2</th>\n      <td>14951.0</td>\n      <td>473770.0</td>\n      <td>9621.0</td>\n      <td>1.0</td>\n      <td>63.376363</td>\n      <td>8.0</td>\n      <td>3.0</td>\n      <td>0.0</td>\n      <td>2.773833</td>\n      <td>24.0</td>\n      <td>...</td>\n      <td>8.0</td>\n      <td>5.91131</td>\n      <td>1.0</td>\n      <td>9621.0</td>\n      <td>63.376363</td>\n      <td>0.0</td>\n      <td>1.0</td>\n      <td>NaN</td>\n      <td>9.0</td>\n      <td>9.0</td>\n    </tr>\n    <tr>\n      <th>3</th>\n      <td>14505.0</td>\n      <td>248063.0</td>\n      <td>6879.0</td>\n      <td>1.0</td>\n      <td>34.203792</td>\n      <td>8.0</td>\n      <td>3.0</td>\n      <td>0.0</td>\n      <td>2.853156</td>\n      <td>21.0</td>\n      <td>...</td>\n      <td>8.0</td>\n      <td>5.519821</td>\n      <td>1.0</td>\n      <td>6879.0</td>\n      <td>34.203792</td>\n      <td>0.0</td>\n      <td>1.0</td>\n      <td>NaN</td>\n      <td>7.0</td>\n      <td>7.0</td>\n    </tr>\n    <tr>\n      <th>4</th>\n      <td>123143.0</td>\n      <td>871200.0</td>\n      <td>58196.0</td>\n      <td>1.0</td>\n      <td>14.149404</td>\n      <td>12.0</td>\n      <td>3.0</td>\n      <td>1.0</td>\n      <td>3.494854</td>\n      <td>17.0</td>\n      <td>...</td>\n      <td>12.0</td>\n      <td>7.539868</td>\n      <td>1.0</td>\n      <td>58196.0</td>\n      <td>14.149404</td>\n      <td>0.0</td>\n      <td>1.0</td>\n      <td>NaN</td>\n      <td>27.0</td>\n      <td>27.0</td>\n    </tr>\n  </tbody>\n</table>\n<p>5 rows × 53 columns</p>\n</div>"
     },
     "execution_count": 12,
     "metadata": {},
     "output_type": "execute_result"
    }
   ],
   "source": [
    "new_dataframe"
   ],
   "metadata": {
    "collapsed": false
   }
  },
  {
   "cell_type": "code",
   "execution_count": 17,
   "outputs": [],
   "source": [
    "new_dataframe = new_dataframe.drop(columns=[\"min_degree\",\"min_authority_score\",\"max_authority_score\",\"min_hub_score\",\"max_hub_score\",\"max_closeness\",\"min_bibcoupling\",\"min_cocitation\",\"min_coreness\",\"min_strength\",\"min_transitivity\",\"max_transitivity\",\"mean_transitivity\"])\n"
   ],
   "metadata": {
    "collapsed": false
   }
  },
  {
   "cell_type": "code",
   "execution_count": 18,
   "outputs": [
    {
     "data": {
      "text/plain": "0            order      size max_degree mean_degree diameter girth radius  \\\nname                                                                        \nWN18RR     40559.0   74066.0      515.0     3.65226     21.0   3.0    1.0   \nWN18       40943.0  121153.0      906.0     5.91813     18.0   3.0    1.0   \nFB15k      14951.0  473770.0     9621.0   63.376363      8.0   3.0    0.0   \nFB15k237   14505.0  248063.0     6879.0   34.203792      8.0   3.0    0.0   \nYAGO310   123143.0  871200.0    58196.0   14.149404     12.0   3.0    1.0   \n\n0        average_path_length clique_number len_maximal_cliques  ...  \\\nname                                                            ...   \nWN18RR              8.517564           4.0             58400.0  ...   \nWN18                7.635398           4.0             66600.0  ...   \nFB15k               2.773833          24.0            225009.0  ...   \nFB15k237            2.853156          21.0            187830.0  ...   \nYAGO310             3.494854          17.0            653517.0  ...   \n\n0        max_coreness mean_coreness min_eccentricity max_eccentricity  \\\nname                                                                    \nWN18RR            6.0       2.15279              1.0             21.0   \nWN18              7.0       3.38092              1.0             18.0   \nFB15k            99.0     33.317771              0.0              8.0   \nFB15k237         61.0     18.063771              0.0              8.0   \nYAGO310          42.0      7.401558              1.0             12.0   \n\n0        mean_eccentricity max_strength mean_strength  \\\nname                                                    \nWN18RR           14.959466        515.0       3.65226   \nWN18             13.417263        906.0       5.91813   \nFB15k              5.91131       9621.0     63.376363   \nFB15k237          5.519821       6879.0     34.203792   \nYAGO310           7.539868      58196.0     14.149404   \n\n0        connected_components_strong connected_components_weak      name  \nname                                                                      \nWN18RR                         122.0                     122.0    WN18RR  \nWN18                            22.0                      22.0      WN18  \nFB15k                            9.0                       9.0     FB15k  \nFB15k237                         7.0                       7.0  FB15k237  \nYAGO310                         27.0                      27.0   YAGO310  \n\n[5 rows x 41 columns]",
      "text/html": "<div>\n<style scoped>\n    .dataframe tbody tr th:only-of-type {\n        vertical-align: middle;\n    }\n\n    .dataframe tbody tr th {\n        vertical-align: top;\n    }\n\n    .dataframe thead th {\n        text-align: right;\n    }\n</style>\n<table border=\"1\" class=\"dataframe\">\n  <thead>\n    <tr style=\"text-align: right;\">\n      <th></th>\n      <th>order</th>\n      <th>size</th>\n      <th>max_degree</th>\n      <th>mean_degree</th>\n      <th>diameter</th>\n      <th>girth</th>\n      <th>radius</th>\n      <th>average_path_length</th>\n      <th>clique_number</th>\n      <th>len_maximal_cliques</th>\n      <th>...</th>\n      <th>max_coreness</th>\n      <th>mean_coreness</th>\n      <th>min_eccentricity</th>\n      <th>max_eccentricity</th>\n      <th>mean_eccentricity</th>\n      <th>max_strength</th>\n      <th>mean_strength</th>\n      <th>connected_components_strong</th>\n      <th>connected_components_weak</th>\n      <th>name</th>\n    </tr>\n    <tr>\n      <th>name</th>\n      <th></th>\n      <th></th>\n      <th></th>\n      <th></th>\n      <th></th>\n      <th></th>\n      <th></th>\n      <th></th>\n      <th></th>\n      <th></th>\n      <th></th>\n      <th></th>\n      <th></th>\n      <th></th>\n      <th></th>\n      <th></th>\n      <th></th>\n      <th></th>\n      <th></th>\n      <th></th>\n      <th></th>\n    </tr>\n  </thead>\n  <tbody>\n    <tr>\n      <th>WN18RR</th>\n      <td>40559.0</td>\n      <td>74066.0</td>\n      <td>515.0</td>\n      <td>3.65226</td>\n      <td>21.0</td>\n      <td>3.0</td>\n      <td>1.0</td>\n      <td>8.517564</td>\n      <td>4.0</td>\n      <td>58400.0</td>\n      <td>...</td>\n      <td>6.0</td>\n      <td>2.15279</td>\n      <td>1.0</td>\n      <td>21.0</td>\n      <td>14.959466</td>\n      <td>515.0</td>\n      <td>3.65226</td>\n      <td>122.0</td>\n      <td>122.0</td>\n      <td>WN18RR</td>\n    </tr>\n    <tr>\n      <th>WN18</th>\n      <td>40943.0</td>\n      <td>121153.0</td>\n      <td>906.0</td>\n      <td>5.91813</td>\n      <td>18.0</td>\n      <td>3.0</td>\n      <td>1.0</td>\n      <td>7.635398</td>\n      <td>4.0</td>\n      <td>66600.0</td>\n      <td>...</td>\n      <td>7.0</td>\n      <td>3.38092</td>\n      <td>1.0</td>\n      <td>18.0</td>\n      <td>13.417263</td>\n      <td>906.0</td>\n      <td>5.91813</td>\n      <td>22.0</td>\n      <td>22.0</td>\n      <td>WN18</td>\n    </tr>\n    <tr>\n      <th>FB15k</th>\n      <td>14951.0</td>\n      <td>473770.0</td>\n      <td>9621.0</td>\n      <td>63.376363</td>\n      <td>8.0</td>\n      <td>3.0</td>\n      <td>0.0</td>\n      <td>2.773833</td>\n      <td>24.0</td>\n      <td>225009.0</td>\n      <td>...</td>\n      <td>99.0</td>\n      <td>33.317771</td>\n      <td>0.0</td>\n      <td>8.0</td>\n      <td>5.91131</td>\n      <td>9621.0</td>\n      <td>63.376363</td>\n      <td>9.0</td>\n      <td>9.0</td>\n      <td>FB15k</td>\n    </tr>\n    <tr>\n      <th>FB15k237</th>\n      <td>14505.0</td>\n      <td>248063.0</td>\n      <td>6879.0</td>\n      <td>34.203792</td>\n      <td>8.0</td>\n      <td>3.0</td>\n      <td>0.0</td>\n      <td>2.853156</td>\n      <td>21.0</td>\n      <td>187830.0</td>\n      <td>...</td>\n      <td>61.0</td>\n      <td>18.063771</td>\n      <td>0.0</td>\n      <td>8.0</td>\n      <td>5.519821</td>\n      <td>6879.0</td>\n      <td>34.203792</td>\n      <td>7.0</td>\n      <td>7.0</td>\n      <td>FB15k237</td>\n    </tr>\n    <tr>\n      <th>YAGO310</th>\n      <td>123143.0</td>\n      <td>871200.0</td>\n      <td>58196.0</td>\n      <td>14.149404</td>\n      <td>12.0</td>\n      <td>3.0</td>\n      <td>1.0</td>\n      <td>3.494854</td>\n      <td>17.0</td>\n      <td>653517.0</td>\n      <td>...</td>\n      <td>42.0</td>\n      <td>7.401558</td>\n      <td>1.0</td>\n      <td>12.0</td>\n      <td>7.539868</td>\n      <td>58196.0</td>\n      <td>14.149404</td>\n      <td>27.0</td>\n      <td>27.0</td>\n      <td>YAGO310</td>\n    </tr>\n  </tbody>\n</table>\n<p>5 rows × 41 columns</p>\n</div>"
     },
     "execution_count": 18,
     "metadata": {},
     "output_type": "execute_result"
    }
   ],
   "source": [
    "names = [\"WN18RR\",\"WN18\",\"FB15k\",\"FB15k237\",\"YAGO310\"]\n",
    "new_dataframe[\"name\"] = names\n",
    "new_dataframe"
   ],
   "metadata": {
    "collapsed": false
   }
  },
  {
   "cell_type": "code",
   "execution_count": 19,
   "outputs": [
    {
     "data": {
      "text/plain": "0            order      size max_degree mean_degree diameter girth radius  \\\nname                                                                        \nWN18RR     40559.0   74066.0      515.0     3.65226     21.0   3.0    1.0   \nWN18       40943.0  121153.0      906.0     5.91813     18.0   3.0    1.0   \nFB15k      14951.0  473770.0     9621.0   63.376363      8.0   3.0    0.0   \nFB15k237   14505.0  248063.0     6879.0   34.203792      8.0   3.0    0.0   \nYAGO310   123143.0  871200.0    58196.0   14.149404     12.0   3.0    1.0   \n\n0        average_path_length clique_number len_maximal_cliques  ...  \\\nname                                                            ...   \nWN18RR              8.517564           4.0             58400.0  ...   \nWN18                7.635398           4.0             66600.0  ...   \nFB15k               2.773833          24.0            225009.0  ...   \nFB15k237            2.853156          21.0            187830.0  ...   \nYAGO310             3.494854          17.0            653517.0  ...   \n\n0        mean_constraint max_coreness mean_coreness min_eccentricity  \\\nname                                                                   \nWN18RR          0.566231          6.0       2.15279              1.0   \nWN18            0.500288          7.0       3.38092              1.0   \nFB15k           0.135685         99.0     33.317771              0.0   \nFB15k237        0.141235         61.0     18.063771              0.0   \nYAGO310         0.244079         42.0      7.401558              1.0   \n\n0        max_eccentricity mean_eccentricity max_strength mean_strength  \\\nname                                                                     \nWN18RR               21.0         14.959466        515.0       3.65226   \nWN18                 18.0         13.417263        906.0       5.91813   \nFB15k                 8.0           5.91131       9621.0     63.376363   \nFB15k237              8.0          5.519821       6879.0     34.203792   \nYAGO310              12.0          7.539868      58196.0     14.149404   \n\n0        connected_components_strong connected_components_weak  \nname                                                            \nWN18RR                         122.0                     122.0  \nWN18                            22.0                      22.0  \nFB15k                            9.0                       9.0  \nFB15k237                         7.0                       7.0  \nYAGO310                         27.0                      27.0  \n\n[5 rows x 40 columns]",
      "text/html": "<div>\n<style scoped>\n    .dataframe tbody tr th:only-of-type {\n        vertical-align: middle;\n    }\n\n    .dataframe tbody tr th {\n        vertical-align: top;\n    }\n\n    .dataframe thead th {\n        text-align: right;\n    }\n</style>\n<table border=\"1\" class=\"dataframe\">\n  <thead>\n    <tr style=\"text-align: right;\">\n      <th></th>\n      <th>order</th>\n      <th>size</th>\n      <th>max_degree</th>\n      <th>mean_degree</th>\n      <th>diameter</th>\n      <th>girth</th>\n      <th>radius</th>\n      <th>average_path_length</th>\n      <th>clique_number</th>\n      <th>len_maximal_cliques</th>\n      <th>...</th>\n      <th>mean_constraint</th>\n      <th>max_coreness</th>\n      <th>mean_coreness</th>\n      <th>min_eccentricity</th>\n      <th>max_eccentricity</th>\n      <th>mean_eccentricity</th>\n      <th>max_strength</th>\n      <th>mean_strength</th>\n      <th>connected_components_strong</th>\n      <th>connected_components_weak</th>\n    </tr>\n    <tr>\n      <th>name</th>\n      <th></th>\n      <th></th>\n      <th></th>\n      <th></th>\n      <th></th>\n      <th></th>\n      <th></th>\n      <th></th>\n      <th></th>\n      <th></th>\n      <th></th>\n      <th></th>\n      <th></th>\n      <th></th>\n      <th></th>\n      <th></th>\n      <th></th>\n      <th></th>\n      <th></th>\n      <th></th>\n      <th></th>\n    </tr>\n  </thead>\n  <tbody>\n    <tr>\n      <th>WN18RR</th>\n      <td>40559.0</td>\n      <td>74066.0</td>\n      <td>515.0</td>\n      <td>3.65226</td>\n      <td>21.0</td>\n      <td>3.0</td>\n      <td>1.0</td>\n      <td>8.517564</td>\n      <td>4.0</td>\n      <td>58400.0</td>\n      <td>...</td>\n      <td>0.566231</td>\n      <td>6.0</td>\n      <td>2.15279</td>\n      <td>1.0</td>\n      <td>21.0</td>\n      <td>14.959466</td>\n      <td>515.0</td>\n      <td>3.65226</td>\n      <td>122.0</td>\n      <td>122.0</td>\n    </tr>\n    <tr>\n      <th>WN18</th>\n      <td>40943.0</td>\n      <td>121153.0</td>\n      <td>906.0</td>\n      <td>5.91813</td>\n      <td>18.0</td>\n      <td>3.0</td>\n      <td>1.0</td>\n      <td>7.635398</td>\n      <td>4.0</td>\n      <td>66600.0</td>\n      <td>...</td>\n      <td>0.500288</td>\n      <td>7.0</td>\n      <td>3.38092</td>\n      <td>1.0</td>\n      <td>18.0</td>\n      <td>13.417263</td>\n      <td>906.0</td>\n      <td>5.91813</td>\n      <td>22.0</td>\n      <td>22.0</td>\n    </tr>\n    <tr>\n      <th>FB15k</th>\n      <td>14951.0</td>\n      <td>473770.0</td>\n      <td>9621.0</td>\n      <td>63.376363</td>\n      <td>8.0</td>\n      <td>3.0</td>\n      <td>0.0</td>\n      <td>2.773833</td>\n      <td>24.0</td>\n      <td>225009.0</td>\n      <td>...</td>\n      <td>0.135685</td>\n      <td>99.0</td>\n      <td>33.317771</td>\n      <td>0.0</td>\n      <td>8.0</td>\n      <td>5.91131</td>\n      <td>9621.0</td>\n      <td>63.376363</td>\n      <td>9.0</td>\n      <td>9.0</td>\n    </tr>\n    <tr>\n      <th>FB15k237</th>\n      <td>14505.0</td>\n      <td>248063.0</td>\n      <td>6879.0</td>\n      <td>34.203792</td>\n      <td>8.0</td>\n      <td>3.0</td>\n      <td>0.0</td>\n      <td>2.853156</td>\n      <td>21.0</td>\n      <td>187830.0</td>\n      <td>...</td>\n      <td>0.141235</td>\n      <td>61.0</td>\n      <td>18.063771</td>\n      <td>0.0</td>\n      <td>8.0</td>\n      <td>5.519821</td>\n      <td>6879.0</td>\n      <td>34.203792</td>\n      <td>7.0</td>\n      <td>7.0</td>\n    </tr>\n    <tr>\n      <th>YAGO310</th>\n      <td>123143.0</td>\n      <td>871200.0</td>\n      <td>58196.0</td>\n      <td>14.149404</td>\n      <td>12.0</td>\n      <td>3.0</td>\n      <td>1.0</td>\n      <td>3.494854</td>\n      <td>17.0</td>\n      <td>653517.0</td>\n      <td>...</td>\n      <td>0.244079</td>\n      <td>42.0</td>\n      <td>7.401558</td>\n      <td>1.0</td>\n      <td>12.0</td>\n      <td>7.539868</td>\n      <td>58196.0</td>\n      <td>14.149404</td>\n      <td>27.0</td>\n      <td>27.0</td>\n    </tr>\n  </tbody>\n</table>\n<p>5 rows × 40 columns</p>\n</div>"
     },
     "execution_count": 19,
     "metadata": {},
     "output_type": "execute_result"
    }
   ],
   "source": [
    "new_dataframe = new_dataframe.set_index(\"name\")\n",
    "#new_dataframe = new_dataframe.drop(columns=[\"name\"])\n",
    "new_dataframe"
   ],
   "metadata": {
    "collapsed": false
   }
  },
  {
   "cell_type": "code",
   "execution_count": 20,
   "outputs": [],
   "source": [
    "new_dataframe.to_csv(\"all_metrics.csv\",index=None)\n"
   ],
   "metadata": {
    "collapsed": false
   }
  },
  {
   "cell_type": "code",
   "execution_count": 21,
   "outputs": [
    {
     "data": {
      "text/plain": "Summarize dataset:   0%|          | 0/5 [00:00<?, ?it/s]",
      "application/vnd.jupyter.widget-view+json": {
       "version_major": 2,
       "version_minor": 0,
       "model_id": "996fe696fa0e4742b1cf1fa3dc5a4a52"
      }
     },
     "metadata": {},
     "output_type": "display_data"
    },
    {
     "name": "stderr",
     "output_type": "stream",
     "text": [
      "/Users/camillasancricca/PycharmProjects/KGE_Quality/venv/lib/python3.11/site-packages/ydata_profiling/model/typeset.py:125: FutureWarning: is_categorical_dtype is deprecated and will be removed in a future version. Use isinstance(dtype, CategoricalDtype) instead\n",
      "  not pdt.is_categorical_dtype(series)\n",
      "/Users/camillasancricca/PycharmProjects/KGE_Quality/venv/lib/python3.11/site-packages/ydata_profiling/model/typeset.py:208: FutureWarning: is_categorical_dtype is deprecated and will be removed in a future version. Use isinstance(dtype, CategoricalDtype) instead\n",
      "  is_valid_dtype = pdt.is_categorical_dtype(series) and not pdt.is_bool_dtype(\n",
      "/Users/camillasancricca/PycharmProjects/KGE_Quality/venv/lib/python3.11/site-packages/ydata_profiling/model/typeset.py:125: FutureWarning: is_categorical_dtype is deprecated and will be removed in a future version. Use isinstance(dtype, CategoricalDtype) instead\n",
      "  not pdt.is_categorical_dtype(series)\n",
      "/Users/camillasancricca/PycharmProjects/KGE_Quality/venv/lib/python3.11/site-packages/ydata_profiling/model/typeset.py:208: FutureWarning: is_categorical_dtype is deprecated and will be removed in a future version. Use isinstance(dtype, CategoricalDtype) instead\n",
      "  is_valid_dtype = pdt.is_categorical_dtype(series) and not pdt.is_bool_dtype(\n",
      "/Users/camillasancricca/PycharmProjects/KGE_Quality/venv/lib/python3.11/site-packages/ydata_profiling/model/typeset.py:208: FutureWarning: is_categorical_dtype is deprecated and will be removed in a future version. Use isinstance(dtype, CategoricalDtype) instead\n",
      "  is_valid_dtype = pdt.is_categorical_dtype(series) and not pdt.is_bool_dtype(\n",
      "/Users/camillasancricca/PycharmProjects/KGE_Quality/venv/lib/python3.11/site-packages/ydata_profiling/model/typeset.py:125: FutureWarning: is_categorical_dtype is deprecated and will be removed in a future version. Use isinstance(dtype, CategoricalDtype) instead\n",
      "  not pdt.is_categorical_dtype(series)\n",
      "/Users/camillasancricca/PycharmProjects/KGE_Quality/venv/lib/python3.11/site-packages/ydata_profiling/model/typeset.py:208: FutureWarning: is_categorical_dtype is deprecated and will be removed in a future version. Use isinstance(dtype, CategoricalDtype) instead\n",
      "  is_valid_dtype = pdt.is_categorical_dtype(series) and not pdt.is_bool_dtype(\n",
      "/Users/camillasancricca/PycharmProjects/KGE_Quality/venv/lib/python3.11/site-packages/ydata_profiling/model/typeset.py:125: FutureWarning: is_categorical_dtype is deprecated and will be removed in a future version. Use isinstance(dtype, CategoricalDtype) instead\n",
      "  not pdt.is_categorical_dtype(series)\n",
      "/Users/camillasancricca/PycharmProjects/KGE_Quality/venv/lib/python3.11/site-packages/ydata_profiling/model/typeset.py:208: FutureWarning: is_categorical_dtype is deprecated and will be removed in a future version. Use isinstance(dtype, CategoricalDtype) instead\n",
      "  is_valid_dtype = pdt.is_categorical_dtype(series) and not pdt.is_bool_dtype(\n",
      "/Users/camillasancricca/PycharmProjects/KGE_Quality/venv/lib/python3.11/site-packages/ydata_profiling/model/typeset.py:125: FutureWarning: is_categorical_dtype is deprecated and will be removed in a future version. Use isinstance(dtype, CategoricalDtype) instead\n",
      "  not pdt.is_categorical_dtype(series)\n",
      "/Users/camillasancricca/PycharmProjects/KGE_Quality/venv/lib/python3.11/site-packages/ydata_profiling/model/typeset.py:208: FutureWarning: is_categorical_dtype is deprecated and will be removed in a future version. Use isinstance(dtype, CategoricalDtype) instead\n",
      "  is_valid_dtype = pdt.is_categorical_dtype(series) and not pdt.is_bool_dtype(\n",
      "/Users/camillasancricca/PycharmProjects/KGE_Quality/venv/lib/python3.11/site-packages/ydata_profiling/model/typeset.py:125: FutureWarning: is_categorical_dtype is deprecated and will be removed in a future version. Use isinstance(dtype, CategoricalDtype) instead\n",
      "  not pdt.is_categorical_dtype(series)\n",
      "/Users/camillasancricca/PycharmProjects/KGE_Quality/venv/lib/python3.11/site-packages/ydata_profiling/model/typeset.py:208: FutureWarning: is_categorical_dtype is deprecated and will be removed in a future version. Use isinstance(dtype, CategoricalDtype) instead\n",
      "  is_valid_dtype = pdt.is_categorical_dtype(series) and not pdt.is_bool_dtype(\n",
      "/Users/camillasancricca/PycharmProjects/KGE_Quality/venv/lib/python3.11/site-packages/ydata_profiling/model/typeset.py:125: FutureWarning: is_categorical_dtype is deprecated and will be removed in a future version. Use isinstance(dtype, CategoricalDtype) instead\n",
      "  not pdt.is_categorical_dtype(series)\n",
      "/Users/camillasancricca/PycharmProjects/KGE_Quality/venv/lib/python3.11/site-packages/ydata_profiling/model/typeset.py:208: FutureWarning: is_categorical_dtype is deprecated and will be removed in a future version. Use isinstance(dtype, CategoricalDtype) instead\n",
      "  is_valid_dtype = pdt.is_categorical_dtype(series) and not pdt.is_bool_dtype(\n",
      "/Users/camillasancricca/PycharmProjects/KGE_Quality/venv/lib/python3.11/site-packages/ydata_profiling/model/typeset.py:208: FutureWarning: is_categorical_dtype is deprecated and will be removed in a future version. Use isinstance(dtype, CategoricalDtype) instead\n",
      "  is_valid_dtype = pdt.is_categorical_dtype(series) and not pdt.is_bool_dtype(\n",
      "/Users/camillasancricca/PycharmProjects/KGE_Quality/venv/lib/python3.11/site-packages/ydata_profiling/model/typeset.py:125: FutureWarning: is_categorical_dtype is deprecated and will be removed in a future version. Use isinstance(dtype, CategoricalDtype) instead\n",
      "  not pdt.is_categorical_dtype(series)\n",
      "/Users/camillasancricca/PycharmProjects/KGE_Quality/venv/lib/python3.11/site-packages/ydata_profiling/model/typeset.py:208: FutureWarning: is_categorical_dtype is deprecated and will be removed in a future version. Use isinstance(dtype, CategoricalDtype) instead\n",
      "  is_valid_dtype = pdt.is_categorical_dtype(series) and not pdt.is_bool_dtype(\n",
      "/Users/camillasancricca/PycharmProjects/KGE_Quality/venv/lib/python3.11/site-packages/ydata_profiling/model/typeset.py:125: FutureWarning: is_categorical_dtype is deprecated and will be removed in a future version. Use isinstance(dtype, CategoricalDtype) instead\n",
      "  not pdt.is_categorical_dtype(series)\n",
      "/Users/camillasancricca/PycharmProjects/KGE_Quality/venv/lib/python3.11/site-packages/ydata_profiling/model/typeset.py:208: FutureWarning: is_categorical_dtype is deprecated and will be removed in a future version. Use isinstance(dtype, CategoricalDtype) instead\n",
      "  is_valid_dtype = pdt.is_categorical_dtype(series) and not pdt.is_bool_dtype(\n",
      "/Users/camillasancricca/PycharmProjects/KGE_Quality/venv/lib/python3.11/site-packages/ydata_profiling/model/typeset.py:208: FutureWarning: is_categorical_dtype is deprecated and will be removed in a future version. Use isinstance(dtype, CategoricalDtype) instead\n",
      "  is_valid_dtype = pdt.is_categorical_dtype(series) and not pdt.is_bool_dtype(\n",
      "/Users/camillasancricca/PycharmProjects/KGE_Quality/venv/lib/python3.11/site-packages/ydata_profiling/model/typeset.py:125: FutureWarning: is_categorical_dtype is deprecated and will be removed in a future version. Use isinstance(dtype, CategoricalDtype) instead\n",
      "  not pdt.is_categorical_dtype(series)\n",
      "/Users/camillasancricca/PycharmProjects/KGE_Quality/venv/lib/python3.11/site-packages/ydata_profiling/model/typeset.py:208: FutureWarning: is_categorical_dtype is deprecated and will be removed in a future version. Use isinstance(dtype, CategoricalDtype) instead\n",
      "  is_valid_dtype = pdt.is_categorical_dtype(series) and not pdt.is_bool_dtype(\n",
      "/Users/camillasancricca/PycharmProjects/KGE_Quality/venv/lib/python3.11/site-packages/ydata_profiling/model/typeset.py:125: FutureWarning: is_categorical_dtype is deprecated and will be removed in a future version. Use isinstance(dtype, CategoricalDtype) instead\n",
      "  not pdt.is_categorical_dtype(series)\n",
      "/Users/camillasancricca/PycharmProjects/KGE_Quality/venv/lib/python3.11/site-packages/ydata_profiling/model/typeset.py:208: FutureWarning: is_categorical_dtype is deprecated and will be removed in a future version. Use isinstance(dtype, CategoricalDtype) instead\n",
      "  is_valid_dtype = pdt.is_categorical_dtype(series) and not pdt.is_bool_dtype(\n",
      "/Users/camillasancricca/PycharmProjects/KGE_Quality/venv/lib/python3.11/site-packages/ydata_profiling/model/typeset.py:125: FutureWarning: is_categorical_dtype is deprecated and will be removed in a future version. Use isinstance(dtype, CategoricalDtype) instead\n",
      "  not pdt.is_categorical_dtype(series)\n",
      "/Users/camillasancricca/PycharmProjects/KGE_Quality/venv/lib/python3.11/site-packages/ydata_profiling/model/typeset.py:208: FutureWarning: is_categorical_dtype is deprecated and will be removed in a future version. Use isinstance(dtype, CategoricalDtype) instead\n",
      "  is_valid_dtype = pdt.is_categorical_dtype(series) and not pdt.is_bool_dtype(\n",
      "/Users/camillasancricca/PycharmProjects/KGE_Quality/venv/lib/python3.11/site-packages/ydata_profiling/model/typeset.py:125: FutureWarning: is_categorical_dtype is deprecated and will be removed in a future version. Use isinstance(dtype, CategoricalDtype) instead\n",
      "  not pdt.is_categorical_dtype(series)\n",
      "/Users/camillasancricca/PycharmProjects/KGE_Quality/venv/lib/python3.11/site-packages/ydata_profiling/model/typeset.py:208: FutureWarning: is_categorical_dtype is deprecated and will be removed in a future version. Use isinstance(dtype, CategoricalDtype) instead\n",
      "  is_valid_dtype = pdt.is_categorical_dtype(series) and not pdt.is_bool_dtype(\n",
      "/Users/camillasancricca/PycharmProjects/KGE_Quality/venv/lib/python3.11/site-packages/ydata_profiling/model/typeset.py:125: FutureWarning: is_categorical_dtype is deprecated and will be removed in a future version. Use isinstance(dtype, CategoricalDtype) instead\n",
      "  not pdt.is_categorical_dtype(series)\n",
      "/Users/camillasancricca/PycharmProjects/KGE_Quality/venv/lib/python3.11/site-packages/ydata_profiling/model/typeset.py:208: FutureWarning: is_categorical_dtype is deprecated and will be removed in a future version. Use isinstance(dtype, CategoricalDtype) instead\n",
      "  is_valid_dtype = pdt.is_categorical_dtype(series) and not pdt.is_bool_dtype(\n",
      "/Users/camillasancricca/PycharmProjects/KGE_Quality/venv/lib/python3.11/site-packages/ydata_profiling/model/typeset.py:125: FutureWarning: is_categorical_dtype is deprecated and will be removed in a future version. Use isinstance(dtype, CategoricalDtype) instead\n",
      "  not pdt.is_categorical_dtype(series)\n",
      "/Users/camillasancricca/PycharmProjects/KGE_Quality/venv/lib/python3.11/site-packages/ydata_profiling/model/typeset.py:208: FutureWarning: is_categorical_dtype is deprecated and will be removed in a future version. Use isinstance(dtype, CategoricalDtype) instead\n",
      "  is_valid_dtype = pdt.is_categorical_dtype(series) and not pdt.is_bool_dtype(\n",
      "/Users/camillasancricca/PycharmProjects/KGE_Quality/venv/lib/python3.11/site-packages/ydata_profiling/model/typeset.py:125: FutureWarning: is_categorical_dtype is deprecated and will be removed in a future version. Use isinstance(dtype, CategoricalDtype) instead\n",
      "  not pdt.is_categorical_dtype(series)\n",
      "/Users/camillasancricca/PycharmProjects/KGE_Quality/venv/lib/python3.11/site-packages/ydata_profiling/model/typeset.py:208: FutureWarning: is_categorical_dtype is deprecated and will be removed in a future version. Use isinstance(dtype, CategoricalDtype) instead\n",
      "  is_valid_dtype = pdt.is_categorical_dtype(series) and not pdt.is_bool_dtype(\n",
      "/Users/camillasancricca/PycharmProjects/KGE_Quality/venv/lib/python3.11/site-packages/ydata_profiling/model/typeset.py:125: FutureWarning: is_categorical_dtype is deprecated and will be removed in a future version. Use isinstance(dtype, CategoricalDtype) instead\n",
      "  not pdt.is_categorical_dtype(series)\n",
      "/Users/camillasancricca/PycharmProjects/KGE_Quality/venv/lib/python3.11/site-packages/ydata_profiling/model/typeset.py:208: FutureWarning: is_categorical_dtype is deprecated and will be removed in a future version. Use isinstance(dtype, CategoricalDtype) instead\n",
      "  is_valid_dtype = pdt.is_categorical_dtype(series) and not pdt.is_bool_dtype(\n",
      "/Users/camillasancricca/PycharmProjects/KGE_Quality/venv/lib/python3.11/site-packages/ydata_profiling/model/typeset.py:125: FutureWarning: is_categorical_dtype is deprecated and will be removed in a future version. Use isinstance(dtype, CategoricalDtype) instead\n",
      "  not pdt.is_categorical_dtype(series)\n",
      "/Users/camillasancricca/PycharmProjects/KGE_Quality/venv/lib/python3.11/site-packages/ydata_profiling/model/typeset.py:208: FutureWarning: is_categorical_dtype is deprecated and will be removed in a future version. Use isinstance(dtype, CategoricalDtype) instead\n",
      "  is_valid_dtype = pdt.is_categorical_dtype(series) and not pdt.is_bool_dtype(\n",
      "/Users/camillasancricca/PycharmProjects/KGE_Quality/venv/lib/python3.11/site-packages/ydata_profiling/model/typeset.py:125: FutureWarning: is_categorical_dtype is deprecated and will be removed in a future version. Use isinstance(dtype, CategoricalDtype) instead\n",
      "  not pdt.is_categorical_dtype(series)\n",
      "/Users/camillasancricca/PycharmProjects/KGE_Quality/venv/lib/python3.11/site-packages/ydata_profiling/model/typeset.py:208: FutureWarning: is_categorical_dtype is deprecated and will be removed in a future version. Use isinstance(dtype, CategoricalDtype) instead\n",
      "  is_valid_dtype = pdt.is_categorical_dtype(series) and not pdt.is_bool_dtype(\n",
      "/Users/camillasancricca/PycharmProjects/KGE_Quality/venv/lib/python3.11/site-packages/ydata_profiling/model/typeset.py:125: FutureWarning: is_categorical_dtype is deprecated and will be removed in a future version. Use isinstance(dtype, CategoricalDtype) instead\n",
      "  not pdt.is_categorical_dtype(series)\n",
      "/Users/camillasancricca/PycharmProjects/KGE_Quality/venv/lib/python3.11/site-packages/ydata_profiling/model/typeset.py:208: FutureWarning: is_categorical_dtype is deprecated and will be removed in a future version. Use isinstance(dtype, CategoricalDtype) instead\n",
      "  is_valid_dtype = pdt.is_categorical_dtype(series) and not pdt.is_bool_dtype(\n",
      "/Users/camillasancricca/PycharmProjects/KGE_Quality/venv/lib/python3.11/site-packages/ydata_profiling/model/typeset.py:125: FutureWarning: is_categorical_dtype is deprecated and will be removed in a future version. Use isinstance(dtype, CategoricalDtype) instead\n",
      "  not pdt.is_categorical_dtype(series)\n",
      "/Users/camillasancricca/PycharmProjects/KGE_Quality/venv/lib/python3.11/site-packages/ydata_profiling/model/typeset.py:208: FutureWarning: is_categorical_dtype is deprecated and will be removed in a future version. Use isinstance(dtype, CategoricalDtype) instead\n",
      "  is_valid_dtype = pdt.is_categorical_dtype(series) and not pdt.is_bool_dtype(\n",
      "/Users/camillasancricca/PycharmProjects/KGE_Quality/venv/lib/python3.11/site-packages/ydata_profiling/model/typeset.py:125: FutureWarning: is_categorical_dtype is deprecated and will be removed in a future version. Use isinstance(dtype, CategoricalDtype) instead\n",
      "  not pdt.is_categorical_dtype(series)\n",
      "/Users/camillasancricca/PycharmProjects/KGE_Quality/venv/lib/python3.11/site-packages/ydata_profiling/model/typeset.py:208: FutureWarning: is_categorical_dtype is deprecated and will be removed in a future version. Use isinstance(dtype, CategoricalDtype) instead\n",
      "  is_valid_dtype = pdt.is_categorical_dtype(series) and not pdt.is_bool_dtype(\n",
      "/Users/camillasancricca/PycharmProjects/KGE_Quality/venv/lib/python3.11/site-packages/ydata_profiling/model/typeset.py:125: FutureWarning: is_categorical_dtype is deprecated and will be removed in a future version. Use isinstance(dtype, CategoricalDtype) instead\n",
      "  not pdt.is_categorical_dtype(series)\n",
      "/Users/camillasancricca/PycharmProjects/KGE_Quality/venv/lib/python3.11/site-packages/ydata_profiling/model/typeset.py:208: FutureWarning: is_categorical_dtype is deprecated and will be removed in a future version. Use isinstance(dtype, CategoricalDtype) instead\n",
      "  is_valid_dtype = pdt.is_categorical_dtype(series) and not pdt.is_bool_dtype(\n",
      "/Users/camillasancricca/PycharmProjects/KGE_Quality/venv/lib/python3.11/site-packages/ydata_profiling/model/typeset.py:125: FutureWarning: is_categorical_dtype is deprecated and will be removed in a future version. Use isinstance(dtype, CategoricalDtype) instead\n",
      "  not pdt.is_categorical_dtype(series)\n",
      "/Users/camillasancricca/PycharmProjects/KGE_Quality/venv/lib/python3.11/site-packages/ydata_profiling/model/typeset.py:208: FutureWarning: is_categorical_dtype is deprecated and will be removed in a future version. Use isinstance(dtype, CategoricalDtype) instead\n",
      "  is_valid_dtype = pdt.is_categorical_dtype(series) and not pdt.is_bool_dtype(\n",
      "/Users/camillasancricca/PycharmProjects/KGE_Quality/venv/lib/python3.11/site-packages/ydata_profiling/model/typeset.py:125: FutureWarning: is_categorical_dtype is deprecated and will be removed in a future version. Use isinstance(dtype, CategoricalDtype) instead\n",
      "  not pdt.is_categorical_dtype(series)\n",
      "/Users/camillasancricca/PycharmProjects/KGE_Quality/venv/lib/python3.11/site-packages/ydata_profiling/model/typeset.py:208: FutureWarning: is_categorical_dtype is deprecated and will be removed in a future version. Use isinstance(dtype, CategoricalDtype) instead\n",
      "  is_valid_dtype = pdt.is_categorical_dtype(series) and not pdt.is_bool_dtype(\n",
      "/Users/camillasancricca/PycharmProjects/KGE_Quality/venv/lib/python3.11/site-packages/ydata_profiling/model/typeset.py:125: FutureWarning: is_categorical_dtype is deprecated and will be removed in a future version. Use isinstance(dtype, CategoricalDtype) instead\n",
      "  not pdt.is_categorical_dtype(series)\n",
      "/Users/camillasancricca/PycharmProjects/KGE_Quality/venv/lib/python3.11/site-packages/ydata_profiling/model/typeset.py:208: FutureWarning: is_categorical_dtype is deprecated and will be removed in a future version. Use isinstance(dtype, CategoricalDtype) instead\n",
      "  is_valid_dtype = pdt.is_categorical_dtype(series) and not pdt.is_bool_dtype(\n",
      "/Users/camillasancricca/PycharmProjects/KGE_Quality/venv/lib/python3.11/site-packages/ydata_profiling/model/typeset.py:125: FutureWarning: is_categorical_dtype is deprecated and will be removed in a future version. Use isinstance(dtype, CategoricalDtype) instead\n",
      "  not pdt.is_categorical_dtype(series)\n",
      "/Users/camillasancricca/PycharmProjects/KGE_Quality/venv/lib/python3.11/site-packages/ydata_profiling/model/typeset.py:208: FutureWarning: is_categorical_dtype is deprecated and will be removed in a future version. Use isinstance(dtype, CategoricalDtype) instead\n",
      "  is_valid_dtype = pdt.is_categorical_dtype(series) and not pdt.is_bool_dtype(\n",
      "/Users/camillasancricca/PycharmProjects/KGE_Quality/venv/lib/python3.11/site-packages/ydata_profiling/model/typeset.py:125: FutureWarning: is_categorical_dtype is deprecated and will be removed in a future version. Use isinstance(dtype, CategoricalDtype) instead\n",
      "  not pdt.is_categorical_dtype(series)\n",
      "/Users/camillasancricca/PycharmProjects/KGE_Quality/venv/lib/python3.11/site-packages/ydata_profiling/model/typeset.py:208: FutureWarning: is_categorical_dtype is deprecated and will be removed in a future version. Use isinstance(dtype, CategoricalDtype) instead\n",
      "  is_valid_dtype = pdt.is_categorical_dtype(series) and not pdt.is_bool_dtype(\n",
      "/Users/camillasancricca/PycharmProjects/KGE_Quality/venv/lib/python3.11/site-packages/ydata_profiling/model/typeset.py:125: FutureWarning: is_categorical_dtype is deprecated and will be removed in a future version. Use isinstance(dtype, CategoricalDtype) instead\n",
      "  not pdt.is_categorical_dtype(series)\n",
      "/Users/camillasancricca/PycharmProjects/KGE_Quality/venv/lib/python3.11/site-packages/ydata_profiling/model/typeset.py:208: FutureWarning: is_categorical_dtype is deprecated and will be removed in a future version. Use isinstance(dtype, CategoricalDtype) instead\n",
      "  is_valid_dtype = pdt.is_categorical_dtype(series) and not pdt.is_bool_dtype(\n",
      "/Users/camillasancricca/PycharmProjects/KGE_Quality/venv/lib/python3.11/site-packages/ydata_profiling/model/typeset.py:125: FutureWarning: is_categorical_dtype is deprecated and will be removed in a future version. Use isinstance(dtype, CategoricalDtype) instead\n",
      "  not pdt.is_categorical_dtype(series)\n",
      "/Users/camillasancricca/PycharmProjects/KGE_Quality/venv/lib/python3.11/site-packages/ydata_profiling/model/typeset.py:208: FutureWarning: is_categorical_dtype is deprecated and will be removed in a future version. Use isinstance(dtype, CategoricalDtype) instead\n",
      "  is_valid_dtype = pdt.is_categorical_dtype(series) and not pdt.is_bool_dtype(\n",
      "/Users/camillasancricca/PycharmProjects/KGE_Quality/venv/lib/python3.11/site-packages/ydata_profiling/model/typeset.py:125: FutureWarning: is_categorical_dtype is deprecated and will be removed in a future version. Use isinstance(dtype, CategoricalDtype) instead\n",
      "  not pdt.is_categorical_dtype(series)\n",
      "/Users/camillasancricca/PycharmProjects/KGE_Quality/venv/lib/python3.11/site-packages/ydata_profiling/model/typeset.py:208: FutureWarning: is_categorical_dtype is deprecated and will be removed in a future version. Use isinstance(dtype, CategoricalDtype) instead\n",
      "  is_valid_dtype = pdt.is_categorical_dtype(series) and not pdt.is_bool_dtype(\n",
      "/Users/camillasancricca/PycharmProjects/KGE_Quality/venv/lib/python3.11/site-packages/ydata_profiling/model/typeset.py:125: FutureWarning: is_categorical_dtype is deprecated and will be removed in a future version. Use isinstance(dtype, CategoricalDtype) instead\n",
      "  not pdt.is_categorical_dtype(series)\n",
      "/Users/camillasancricca/PycharmProjects/KGE_Quality/venv/lib/python3.11/site-packages/ydata_profiling/model/typeset.py:208: FutureWarning: is_categorical_dtype is deprecated and will be removed in a future version. Use isinstance(dtype, CategoricalDtype) instead\n",
      "  is_valid_dtype = pdt.is_categorical_dtype(series) and not pdt.is_bool_dtype(\n",
      "/Users/camillasancricca/PycharmProjects/KGE_Quality/venv/lib/python3.11/site-packages/ydata_profiling/model/typeset.py:125: FutureWarning: is_categorical_dtype is deprecated and will be removed in a future version. Use isinstance(dtype, CategoricalDtype) instead\n",
      "  not pdt.is_categorical_dtype(series)\n",
      "/Users/camillasancricca/PycharmProjects/KGE_Quality/venv/lib/python3.11/site-packages/ydata_profiling/model/typeset.py:208: FutureWarning: is_categorical_dtype is deprecated and will be removed in a future version. Use isinstance(dtype, CategoricalDtype) instead\n",
      "  is_valid_dtype = pdt.is_categorical_dtype(series) and not pdt.is_bool_dtype(\n",
      "/Users/camillasancricca/PycharmProjects/KGE_Quality/venv/lib/python3.11/site-packages/ydata_profiling/model/typeset.py:125: FutureWarning: is_categorical_dtype is deprecated and will be removed in a future version. Use isinstance(dtype, CategoricalDtype) instead\n",
      "  not pdt.is_categorical_dtype(series)\n",
      "/Users/camillasancricca/PycharmProjects/KGE_Quality/venv/lib/python3.11/site-packages/ydata_profiling/model/typeset.py:208: FutureWarning: is_categorical_dtype is deprecated and will be removed in a future version. Use isinstance(dtype, CategoricalDtype) instead\n",
      "  is_valid_dtype = pdt.is_categorical_dtype(series) and not pdt.is_bool_dtype(\n",
      "/Users/camillasancricca/PycharmProjects/KGE_Quality/venv/lib/python3.11/site-packages/ydata_profiling/model/typeset.py:125: FutureWarning: is_categorical_dtype is deprecated and will be removed in a future version. Use isinstance(dtype, CategoricalDtype) instead\n",
      "  not pdt.is_categorical_dtype(series)\n",
      "/Users/camillasancricca/PycharmProjects/KGE_Quality/venv/lib/python3.11/site-packages/ydata_profiling/model/typeset.py:208: FutureWarning: is_categorical_dtype is deprecated and will be removed in a future version. Use isinstance(dtype, CategoricalDtype) instead\n",
      "  is_valid_dtype = pdt.is_categorical_dtype(series) and not pdt.is_bool_dtype(\n",
      "/Users/camillasancricca/PycharmProjects/KGE_Quality/venv/lib/python3.11/site-packages/ydata_profiling/model/typeset.py:125: FutureWarning: is_categorical_dtype is deprecated and will be removed in a future version. Use isinstance(dtype, CategoricalDtype) instead\n",
      "  not pdt.is_categorical_dtype(series)\n",
      "/Users/camillasancricca/PycharmProjects/KGE_Quality/venv/lib/python3.11/site-packages/ydata_profiling/model/typeset.py:208: FutureWarning: is_categorical_dtype is deprecated and will be removed in a future version. Use isinstance(dtype, CategoricalDtype) instead\n",
      "  is_valid_dtype = pdt.is_categorical_dtype(series) and not pdt.is_bool_dtype(\n",
      "/Users/camillasancricca/PycharmProjects/KGE_Quality/venv/lib/python3.11/site-packages/ydata_profiling/model/typeset.py:125: FutureWarning: is_categorical_dtype is deprecated and will be removed in a future version. Use isinstance(dtype, CategoricalDtype) instead\n",
      "  not pdt.is_categorical_dtype(series)\n",
      "/Users/camillasancricca/PycharmProjects/KGE_Quality/venv/lib/python3.11/site-packages/ydata_profiling/model/typeset.py:208: FutureWarning: is_categorical_dtype is deprecated and will be removed in a future version. Use isinstance(dtype, CategoricalDtype) instead\n",
      "  is_valid_dtype = pdt.is_categorical_dtype(series) and not pdt.is_bool_dtype(\n",
      "/Users/camillasancricca/PycharmProjects/KGE_Quality/venv/lib/python3.11/site-packages/ydata_profiling/model/typeset.py:125: FutureWarning: is_categorical_dtype is deprecated and will be removed in a future version. Use isinstance(dtype, CategoricalDtype) instead\n",
      "  not pdt.is_categorical_dtype(series)\n",
      "/Users/camillasancricca/PycharmProjects/KGE_Quality/venv/lib/python3.11/site-packages/ydata_profiling/model/typeset.py:208: FutureWarning: is_categorical_dtype is deprecated and will be removed in a future version. Use isinstance(dtype, CategoricalDtype) instead\n",
      "  is_valid_dtype = pdt.is_categorical_dtype(series) and not pdt.is_bool_dtype(\n",
      "/Users/camillasancricca/PycharmProjects/KGE_Quality/venv/lib/python3.11/site-packages/ydata_profiling/model/typeset.py:125: FutureWarning: is_categorical_dtype is deprecated and will be removed in a future version. Use isinstance(dtype, CategoricalDtype) instead\n",
      "  not pdt.is_categorical_dtype(series)\n",
      "/Users/camillasancricca/PycharmProjects/KGE_Quality/venv/lib/python3.11/site-packages/ydata_profiling/model/typeset.py:208: FutureWarning: is_categorical_dtype is deprecated and will be removed in a future version. Use isinstance(dtype, CategoricalDtype) instead\n",
      "  is_valid_dtype = pdt.is_categorical_dtype(series) and not pdt.is_bool_dtype(\n",
      "/Users/camillasancricca/PycharmProjects/KGE_Quality/venv/lib/python3.11/site-packages/ydata_profiling/model/typeset.py:125: FutureWarning: is_categorical_dtype is deprecated and will be removed in a future version. Use isinstance(dtype, CategoricalDtype) instead\n",
      "  not pdt.is_categorical_dtype(series)\n",
      "/Users/camillasancricca/PycharmProjects/KGE_Quality/venv/lib/python3.11/site-packages/ydata_profiling/model/typeset.py:208: FutureWarning: is_categorical_dtype is deprecated and will be removed in a future version. Use isinstance(dtype, CategoricalDtype) instead\n",
      "  is_valid_dtype = pdt.is_categorical_dtype(series) and not pdt.is_bool_dtype(\n",
      "/Users/camillasancricca/PycharmProjects/KGE_Quality/venv/lib/python3.11/site-packages/ydata_profiling/model/typeset.py:125: FutureWarning: is_categorical_dtype is deprecated and will be removed in a future version. Use isinstance(dtype, CategoricalDtype) instead\n",
      "  not pdt.is_categorical_dtype(series)\n",
      "/Users/camillasancricca/PycharmProjects/KGE_Quality/venv/lib/python3.11/site-packages/ydata_profiling/model/typeset.py:208: FutureWarning: is_categorical_dtype is deprecated and will be removed in a future version. Use isinstance(dtype, CategoricalDtype) instead\n",
      "  is_valid_dtype = pdt.is_categorical_dtype(series) and not pdt.is_bool_dtype(\n",
      "/Users/camillasancricca/PycharmProjects/KGE_Quality/venv/lib/python3.11/site-packages/ydata_profiling/model/typeset.py:125: FutureWarning: is_categorical_dtype is deprecated and will be removed in a future version. Use isinstance(dtype, CategoricalDtype) instead\n",
      "  not pdt.is_categorical_dtype(series)\n",
      "/Users/camillasancricca/PycharmProjects/KGE_Quality/venv/lib/python3.11/site-packages/ydata_profiling/model/typeset.py:208: FutureWarning: is_categorical_dtype is deprecated and will be removed in a future version. Use isinstance(dtype, CategoricalDtype) instead\n",
      "  is_valid_dtype = pdt.is_categorical_dtype(series) and not pdt.is_bool_dtype(\n",
      "/Users/camillasancricca/PycharmProjects/KGE_Quality/venv/lib/python3.11/site-packages/ydata_profiling/model/typeset.py:125: FutureWarning: is_categorical_dtype is deprecated and will be removed in a future version. Use isinstance(dtype, CategoricalDtype) instead\n",
      "  not pdt.is_categorical_dtype(series)\n",
      "/Users/camillasancricca/PycharmProjects/KGE_Quality/venv/lib/python3.11/site-packages/ydata_profiling/model/typeset.py:208: FutureWarning: is_categorical_dtype is deprecated and will be removed in a future version. Use isinstance(dtype, CategoricalDtype) instead\n",
      "  is_valid_dtype = pdt.is_categorical_dtype(series) and not pdt.is_bool_dtype(\n",
      "/Users/camillasancricca/PycharmProjects/KGE_Quality/venv/lib/python3.11/site-packages/ydata_profiling/model/typeset.py:125: FutureWarning: is_categorical_dtype is deprecated and will be removed in a future version. Use isinstance(dtype, CategoricalDtype) instead\n",
      "  not pdt.is_categorical_dtype(series)\n",
      "/Users/camillasancricca/PycharmProjects/KGE_Quality/venv/lib/python3.11/site-packages/ydata_profiling/model/typeset.py:208: FutureWarning: is_categorical_dtype is deprecated and will be removed in a future version. Use isinstance(dtype, CategoricalDtype) instead\n",
      "  is_valid_dtype = pdt.is_categorical_dtype(series) and not pdt.is_bool_dtype(\n",
      "/Users/camillasancricca/PycharmProjects/KGE_Quality/venv/lib/python3.11/site-packages/ydata_profiling/model/typeset.py:125: FutureWarning: is_categorical_dtype is deprecated and will be removed in a future version. Use isinstance(dtype, CategoricalDtype) instead\n",
      "  not pdt.is_categorical_dtype(series)\n",
      "/Users/camillasancricca/PycharmProjects/KGE_Quality/venv/lib/python3.11/site-packages/ydata_profiling/model/typeset.py:208: FutureWarning: is_categorical_dtype is deprecated and will be removed in a future version. Use isinstance(dtype, CategoricalDtype) instead\n",
      "  is_valid_dtype = pdt.is_categorical_dtype(series) and not pdt.is_bool_dtype(\n",
      "/Users/camillasancricca/PycharmProjects/KGE_Quality/venv/lib/python3.11/site-packages/ydata_profiling/model/typeset.py:125: FutureWarning: is_categorical_dtype is deprecated and will be removed in a future version. Use isinstance(dtype, CategoricalDtype) instead\n",
      "  not pdt.is_categorical_dtype(series)\n",
      "/Users/camillasancricca/PycharmProjects/KGE_Quality/venv/lib/python3.11/site-packages/ydata_profiling/model/typeset.py:208: FutureWarning: is_categorical_dtype is deprecated and will be removed in a future version. Use isinstance(dtype, CategoricalDtype) instead\n",
      "  is_valid_dtype = pdt.is_categorical_dtype(series) and not pdt.is_bool_dtype(\n",
      "/Users/camillasancricca/PycharmProjects/KGE_Quality/venv/lib/python3.11/site-packages/ydata_profiling/model/typeset.py:125: FutureWarning: is_categorical_dtype is deprecated and will be removed in a future version. Use isinstance(dtype, CategoricalDtype) instead\n",
      "  not pdt.is_categorical_dtype(series)\n",
      "/Users/camillasancricca/PycharmProjects/KGE_Quality/venv/lib/python3.11/site-packages/ydata_profiling/model/typeset.py:208: FutureWarning: is_categorical_dtype is deprecated and will be removed in a future version. Use isinstance(dtype, CategoricalDtype) instead\n",
      "  is_valid_dtype = pdt.is_categorical_dtype(series) and not pdt.is_bool_dtype(\n",
      "/Users/camillasancricca/PycharmProjects/KGE_Quality/venv/lib/python3.11/site-packages/ydata_profiling/model/typeset.py:125: FutureWarning: is_categorical_dtype is deprecated and will be removed in a future version. Use isinstance(dtype, CategoricalDtype) instead\n",
      "  not pdt.is_categorical_dtype(series)\n",
      "/Users/camillasancricca/PycharmProjects/KGE_Quality/venv/lib/python3.11/site-packages/ydata_profiling/model/typeset.py:208: FutureWarning: is_categorical_dtype is deprecated and will be removed in a future version. Use isinstance(dtype, CategoricalDtype) instead\n",
      "  is_valid_dtype = pdt.is_categorical_dtype(series) and not pdt.is_bool_dtype(\n",
      "/Users/camillasancricca/PycharmProjects/KGE_Quality/venv/lib/python3.11/site-packages/ydata_profiling/model/typeset.py:125: FutureWarning: is_categorical_dtype is deprecated and will be removed in a future version. Use isinstance(dtype, CategoricalDtype) instead\n",
      "  not pdt.is_categorical_dtype(series)\n",
      "/Users/camillasancricca/PycharmProjects/KGE_Quality/venv/lib/python3.11/site-packages/ydata_profiling/model/typeset.py:208: FutureWarning: is_categorical_dtype is deprecated and will be removed in a future version. Use isinstance(dtype, CategoricalDtype) instead\n",
      "  is_valid_dtype = pdt.is_categorical_dtype(series) and not pdt.is_bool_dtype(\n",
      "/Users/camillasancricca/PycharmProjects/KGE_Quality/venv/lib/python3.11/site-packages/ydata_profiling/model/typeset.py:125: FutureWarning: is_categorical_dtype is deprecated and will be removed in a future version. Use isinstance(dtype, CategoricalDtype) instead\n",
      "  not pdt.is_categorical_dtype(series)\n",
      "/Users/camillasancricca/PycharmProjects/KGE_Quality/venv/lib/python3.11/site-packages/ydata_profiling/model/typeset.py:208: FutureWarning: is_categorical_dtype is deprecated and will be removed in a future version. Use isinstance(dtype, CategoricalDtype) instead\n",
      "  is_valid_dtype = pdt.is_categorical_dtype(series) and not pdt.is_bool_dtype(\n",
      "/Users/camillasancricca/PycharmProjects/KGE_Quality/venv/lib/python3.11/site-packages/ydata_profiling/model/typeset.py:125: FutureWarning: is_categorical_dtype is deprecated and will be removed in a future version. Use isinstance(dtype, CategoricalDtype) instead\n",
      "  not pdt.is_categorical_dtype(series)\n",
      "/Users/camillasancricca/PycharmProjects/KGE_Quality/venv/lib/python3.11/site-packages/ydata_profiling/model/typeset.py:208: FutureWarning: is_categorical_dtype is deprecated and will be removed in a future version. Use isinstance(dtype, CategoricalDtype) instead\n",
      "  is_valid_dtype = pdt.is_categorical_dtype(series) and not pdt.is_bool_dtype(\n",
      "/Users/camillasancricca/PycharmProjects/KGE_Quality/venv/lib/python3.11/site-packages/ydata_profiling/model/typeset.py:125: FutureWarning: is_categorical_dtype is deprecated and will be removed in a future version. Use isinstance(dtype, CategoricalDtype) instead\n",
      "  not pdt.is_categorical_dtype(series)\n",
      "/Users/camillasancricca/PycharmProjects/KGE_Quality/venv/lib/python3.11/site-packages/ydata_profiling/model/typeset.py:208: FutureWarning: is_categorical_dtype is deprecated and will be removed in a future version. Use isinstance(dtype, CategoricalDtype) instead\n",
      "  is_valid_dtype = pdt.is_categorical_dtype(series) and not pdt.is_bool_dtype(\n",
      "/Users/camillasancricca/PycharmProjects/KGE_Quality/venv/lib/python3.11/site-packages/ydata_profiling/model/typeset.py:125: FutureWarning: is_categorical_dtype is deprecated and will be removed in a future version. Use isinstance(dtype, CategoricalDtype) instead\n",
      "  not pdt.is_categorical_dtype(series)\n",
      "/Users/camillasancricca/PycharmProjects/KGE_Quality/venv/lib/python3.11/site-packages/ydata_profiling/model/typeset.py:208: FutureWarning: is_categorical_dtype is deprecated and will be removed in a future version. Use isinstance(dtype, CategoricalDtype) instead\n",
      "  is_valid_dtype = pdt.is_categorical_dtype(series) and not pdt.is_bool_dtype(\n",
      "/Users/camillasancricca/PycharmProjects/KGE_Quality/venv/lib/python3.11/site-packages/ydata_profiling/model/typeset.py:125: FutureWarning: is_categorical_dtype is deprecated and will be removed in a future version. Use isinstance(dtype, CategoricalDtype) instead\n",
      "  not pdt.is_categorical_dtype(series)\n",
      "/Users/camillasancricca/PycharmProjects/KGE_Quality/venv/lib/python3.11/site-packages/ydata_profiling/model/typeset.py:208: FutureWarning: is_categorical_dtype is deprecated and will be removed in a future version. Use isinstance(dtype, CategoricalDtype) instead\n",
      "  is_valid_dtype = pdt.is_categorical_dtype(series) and not pdt.is_bool_dtype(\n",
      "/Users/camillasancricca/PycharmProjects/KGE_Quality/venv/lib/python3.11/site-packages/ydata_profiling/model/typeset.py:125: FutureWarning: is_categorical_dtype is deprecated and will be removed in a future version. Use isinstance(dtype, CategoricalDtype) instead\n",
      "  not pdt.is_categorical_dtype(series)\n",
      "/Users/camillasancricca/PycharmProjects/KGE_Quality/venv/lib/python3.11/site-packages/ydata_profiling/model/typeset.py:208: FutureWarning: is_categorical_dtype is deprecated and will be removed in a future version. Use isinstance(dtype, CategoricalDtype) instead\n",
      "  is_valid_dtype = pdt.is_categorical_dtype(series) and not pdt.is_bool_dtype(\n",
      "/Users/camillasancricca/PycharmProjects/KGE_Quality/venv/lib/python3.11/site-packages/ydata_profiling/model/typeset.py:125: FutureWarning: is_categorical_dtype is deprecated and will be removed in a future version. Use isinstance(dtype, CategoricalDtype) instead\n",
      "  not pdt.is_categorical_dtype(series)\n",
      "/Users/camillasancricca/PycharmProjects/KGE_Quality/venv/lib/python3.11/site-packages/ydata_profiling/model/typeset.py:208: FutureWarning: is_categorical_dtype is deprecated and will be removed in a future version. Use isinstance(dtype, CategoricalDtype) instead\n",
      "  is_valid_dtype = pdt.is_categorical_dtype(series) and not pdt.is_bool_dtype(\n",
      "/Users/camillasancricca/PycharmProjects/KGE_Quality/venv/lib/python3.11/site-packages/ydata_profiling/model/typeset.py:125: FutureWarning: is_categorical_dtype is deprecated and will be removed in a future version. Use isinstance(dtype, CategoricalDtype) instead\n",
      "  not pdt.is_categorical_dtype(series)\n",
      "/Users/camillasancricca/PycharmProjects/KGE_Quality/venv/lib/python3.11/site-packages/ydata_profiling/model/typeset.py:208: FutureWarning: is_categorical_dtype is deprecated and will be removed in a future version. Use isinstance(dtype, CategoricalDtype) instead\n",
      "  is_valid_dtype = pdt.is_categorical_dtype(series) and not pdt.is_bool_dtype(\n",
      "/Users/camillasancricca/PycharmProjects/KGE_Quality/venv/lib/python3.11/site-packages/ydata_profiling/model/typeset.py:125: FutureWarning: is_categorical_dtype is deprecated and will be removed in a future version. Use isinstance(dtype, CategoricalDtype) instead\n",
      "  not pdt.is_categorical_dtype(series)\n",
      "/Users/camillasancricca/PycharmProjects/KGE_Quality/venv/lib/python3.11/site-packages/ydata_profiling/model/typeset.py:208: FutureWarning: is_categorical_dtype is deprecated and will be removed in a future version. Use isinstance(dtype, CategoricalDtype) instead\n",
      "  is_valid_dtype = pdt.is_categorical_dtype(series) and not pdt.is_bool_dtype(\n",
      "/Users/camillasancricca/PycharmProjects/KGE_Quality/venv/lib/python3.11/site-packages/ydata_profiling/model/typeset.py:125: FutureWarning: is_categorical_dtype is deprecated and will be removed in a future version. Use isinstance(dtype, CategoricalDtype) instead\n",
      "  not pdt.is_categorical_dtype(series)\n",
      "/Users/camillasancricca/PycharmProjects/KGE_Quality/venv/lib/python3.11/site-packages/ydata_profiling/model/typeset.py:208: FutureWarning: is_categorical_dtype is deprecated and will be removed in a future version. Use isinstance(dtype, CategoricalDtype) instead\n",
      "  is_valid_dtype = pdt.is_categorical_dtype(series) and not pdt.is_bool_dtype(\n",
      "/Users/camillasancricca/PycharmProjects/KGE_Quality/venv/lib/python3.11/site-packages/ydata_profiling/model/typeset.py:125: FutureWarning: is_categorical_dtype is deprecated and will be removed in a future version. Use isinstance(dtype, CategoricalDtype) instead\n",
      "  not pdt.is_categorical_dtype(series)\n",
      "/Users/camillasancricca/PycharmProjects/KGE_Quality/venv/lib/python3.11/site-packages/ydata_profiling/model/typeset.py:208: FutureWarning: is_categorical_dtype is deprecated and will be removed in a future version. Use isinstance(dtype, CategoricalDtype) instead\n",
      "  is_valid_dtype = pdt.is_categorical_dtype(series) and not pdt.is_bool_dtype(\n",
      "/Users/camillasancricca/PycharmProjects/KGE_Quality/venv/lib/python3.11/site-packages/ydata_profiling/model/typeset.py:125: FutureWarning: is_categorical_dtype is deprecated and will be removed in a future version. Use isinstance(dtype, CategoricalDtype) instead\n",
      "  not pdt.is_categorical_dtype(series)\n",
      "/Users/camillasancricca/PycharmProjects/KGE_Quality/venv/lib/python3.11/site-packages/ydata_profiling/model/typeset.py:208: FutureWarning: is_categorical_dtype is deprecated and will be removed in a future version. Use isinstance(dtype, CategoricalDtype) instead\n",
      "  is_valid_dtype = pdt.is_categorical_dtype(series) and not pdt.is_bool_dtype(\n",
      "/Users/camillasancricca/PycharmProjects/KGE_Quality/venv/lib/python3.11/site-packages/ydata_profiling/model/typeset.py:125: FutureWarning: is_categorical_dtype is deprecated and will be removed in a future version. Use isinstance(dtype, CategoricalDtype) instead\n",
      "  not pdt.is_categorical_dtype(series)\n",
      "/Users/camillasancricca/PycharmProjects/KGE_Quality/venv/lib/python3.11/site-packages/ydata_profiling/model/typeset.py:208: FutureWarning: is_categorical_dtype is deprecated and will be removed in a future version. Use isinstance(dtype, CategoricalDtype) instead\n",
      "  is_valid_dtype = pdt.is_categorical_dtype(series) and not pdt.is_bool_dtype(\n",
      "/Users/camillasancricca/PycharmProjects/KGE_Quality/venv/lib/python3.11/site-packages/ydata_profiling/model/typeset.py:125: FutureWarning: is_categorical_dtype is deprecated and will be removed in a future version. Use isinstance(dtype, CategoricalDtype) instead\n",
      "  not pdt.is_categorical_dtype(series)\n",
      "/Users/camillasancricca/PycharmProjects/KGE_Quality/venv/lib/python3.11/site-packages/ydata_profiling/model/typeset.py:208: FutureWarning: is_categorical_dtype is deprecated and will be removed in a future version. Use isinstance(dtype, CategoricalDtype) instead\n",
      "  is_valid_dtype = pdt.is_categorical_dtype(series) and not pdt.is_bool_dtype(\n",
      "/Users/camillasancricca/PycharmProjects/KGE_Quality/venv/lib/python3.11/site-packages/ydata_profiling/model/typeset.py:125: FutureWarning: is_categorical_dtype is deprecated and will be removed in a future version. Use isinstance(dtype, CategoricalDtype) instead\n",
      "  not pdt.is_categorical_dtype(series)\n",
      "/Users/camillasancricca/PycharmProjects/KGE_Quality/venv/lib/python3.11/site-packages/ydata_profiling/model/typeset.py:208: FutureWarning: is_categorical_dtype is deprecated and will be removed in a future version. Use isinstance(dtype, CategoricalDtype) instead\n",
      "  is_valid_dtype = pdt.is_categorical_dtype(series) and not pdt.is_bool_dtype(\n",
      "/Users/camillasancricca/PycharmProjects/KGE_Quality/venv/lib/python3.11/site-packages/ydata_profiling/model/typeset.py:125: FutureWarning: is_categorical_dtype is deprecated and will be removed in a future version. Use isinstance(dtype, CategoricalDtype) instead\n",
      "  not pdt.is_categorical_dtype(series)\n",
      "/Users/camillasancricca/PycharmProjects/KGE_Quality/venv/lib/python3.11/site-packages/ydata_profiling/model/typeset.py:208: FutureWarning: is_categorical_dtype is deprecated and will be removed in a future version. Use isinstance(dtype, CategoricalDtype) instead\n",
      "  is_valid_dtype = pdt.is_categorical_dtype(series) and not pdt.is_bool_dtype(\n",
      "/Users/camillasancricca/PycharmProjects/KGE_Quality/venv/lib/python3.11/site-packages/ydata_profiling/model/typeset.py:125: FutureWarning: is_categorical_dtype is deprecated and will be removed in a future version. Use isinstance(dtype, CategoricalDtype) instead\n",
      "  not pdt.is_categorical_dtype(series)\n",
      "/Users/camillasancricca/PycharmProjects/KGE_Quality/venv/lib/python3.11/site-packages/ydata_profiling/model/typeset.py:208: FutureWarning: is_categorical_dtype is deprecated and will be removed in a future version. Use isinstance(dtype, CategoricalDtype) instead\n",
      "  is_valid_dtype = pdt.is_categorical_dtype(series) and not pdt.is_bool_dtype(\n",
      "/Users/camillasancricca/PycharmProjects/KGE_Quality/venv/lib/python3.11/site-packages/ydata_profiling/model/typeset.py:125: FutureWarning: is_categorical_dtype is deprecated and will be removed in a future version. Use isinstance(dtype, CategoricalDtype) instead\n",
      "  not pdt.is_categorical_dtype(series)\n",
      "/Users/camillasancricca/PycharmProjects/KGE_Quality/venv/lib/python3.11/site-packages/ydata_profiling/model/typeset.py:208: FutureWarning: is_categorical_dtype is deprecated and will be removed in a future version. Use isinstance(dtype, CategoricalDtype) instead\n",
      "  is_valid_dtype = pdt.is_categorical_dtype(series) and not pdt.is_bool_dtype(\n",
      "/Users/camillasancricca/PycharmProjects/KGE_Quality/venv/lib/python3.11/site-packages/ydata_profiling/model/typeset.py:125: FutureWarning: is_categorical_dtype is deprecated and will be removed in a future version. Use isinstance(dtype, CategoricalDtype) instead\n",
      "  not pdt.is_categorical_dtype(series)\n",
      "/Users/camillasancricca/PycharmProjects/KGE_Quality/venv/lib/python3.11/site-packages/ydata_profiling/model/typeset.py:208: FutureWarning: is_categorical_dtype is deprecated and will be removed in a future version. Use isinstance(dtype, CategoricalDtype) instead\n",
      "  is_valid_dtype = pdt.is_categorical_dtype(series) and not pdt.is_bool_dtype(\n",
      "/Users/camillasancricca/PycharmProjects/KGE_Quality/venv/lib/python3.11/site-packages/ydata_profiling/model/typeset.py:125: FutureWarning: is_categorical_dtype is deprecated and will be removed in a future version. Use isinstance(dtype, CategoricalDtype) instead\n",
      "  not pdt.is_categorical_dtype(series)\n",
      "/Users/camillasancricca/PycharmProjects/KGE_Quality/venv/lib/python3.11/site-packages/ydata_profiling/model/typeset.py:208: FutureWarning: is_categorical_dtype is deprecated and will be removed in a future version. Use isinstance(dtype, CategoricalDtype) instead\n",
      "  is_valid_dtype = pdt.is_categorical_dtype(series) and not pdt.is_bool_dtype(\n",
      "/Users/camillasancricca/PycharmProjects/KGE_Quality/venv/lib/python3.11/site-packages/ydata_profiling/model/typeset.py:125: FutureWarning: is_categorical_dtype is deprecated and will be removed in a future version. Use isinstance(dtype, CategoricalDtype) instead\n",
      "  not pdt.is_categorical_dtype(series)\n",
      "/Users/camillasancricca/PycharmProjects/KGE_Quality/venv/lib/python3.11/site-packages/ydata_profiling/model/typeset.py:208: FutureWarning: is_categorical_dtype is deprecated and will be removed in a future version. Use isinstance(dtype, CategoricalDtype) instead\n",
      "  is_valid_dtype = pdt.is_categorical_dtype(series) and not pdt.is_bool_dtype(\n",
      "/Users/camillasancricca/PycharmProjects/KGE_Quality/venv/lib/python3.11/site-packages/ydata_profiling/model/typeset.py:125: FutureWarning: is_categorical_dtype is deprecated and will be removed in a future version. Use isinstance(dtype, CategoricalDtype) instead\n",
      "  not pdt.is_categorical_dtype(series)\n",
      "/Users/camillasancricca/PycharmProjects/KGE_Quality/venv/lib/python3.11/site-packages/ydata_profiling/model/typeset.py:208: FutureWarning: is_categorical_dtype is deprecated and will be removed in a future version. Use isinstance(dtype, CategoricalDtype) instead\n",
      "  is_valid_dtype = pdt.is_categorical_dtype(series) and not pdt.is_bool_dtype(\n",
      "/Users/camillasancricca/PycharmProjects/KGE_Quality/venv/lib/python3.11/site-packages/ydata_profiling/model/typeset.py:125: FutureWarning: is_categorical_dtype is deprecated and will be removed in a future version. Use isinstance(dtype, CategoricalDtype) instead\n",
      "  not pdt.is_categorical_dtype(series)\n",
      "/Users/camillasancricca/PycharmProjects/KGE_Quality/venv/lib/python3.11/site-packages/ydata_profiling/model/typeset.py:208: FutureWarning: is_categorical_dtype is deprecated and will be removed in a future version. Use isinstance(dtype, CategoricalDtype) instead\n",
      "  is_valid_dtype = pdt.is_categorical_dtype(series) and not pdt.is_bool_dtype(\n",
      "/Users/camillasancricca/PycharmProjects/KGE_Quality/venv/lib/python3.11/site-packages/ydata_profiling/model/typeset.py:125: FutureWarning: is_categorical_dtype is deprecated and will be removed in a future version. Use isinstance(dtype, CategoricalDtype) instead\n",
      "  not pdt.is_categorical_dtype(series)\n",
      "/Users/camillasancricca/PycharmProjects/KGE_Quality/venv/lib/python3.11/site-packages/ydata_profiling/model/typeset.py:208: FutureWarning: is_categorical_dtype is deprecated and will be removed in a future version. Use isinstance(dtype, CategoricalDtype) instead\n",
      "  is_valid_dtype = pdt.is_categorical_dtype(series) and not pdt.is_bool_dtype(\n",
      "/Users/camillasancricca/PycharmProjects/KGE_Quality/venv/lib/python3.11/site-packages/ydata_profiling/model/typeset.py:125: FutureWarning: is_categorical_dtype is deprecated and will be removed in a future version. Use isinstance(dtype, CategoricalDtype) instead\n",
      "  not pdt.is_categorical_dtype(series)\n",
      "/Users/camillasancricca/PycharmProjects/KGE_Quality/venv/lib/python3.11/site-packages/ydata_profiling/model/typeset.py:208: FutureWarning: is_categorical_dtype is deprecated and will be removed in a future version. Use isinstance(dtype, CategoricalDtype) instead\n",
      "  is_valid_dtype = pdt.is_categorical_dtype(series) and not pdt.is_bool_dtype(\n",
      "/Users/camillasancricca/PycharmProjects/KGE_Quality/venv/lib/python3.11/site-packages/seaborn/matrix.py:260: FutureWarning: Format strings passed to MaskedConstant are ignored, but in future may error or produce different behavior\n",
      "  annotation = (\"{:\" + self.fmt + \"}\").format(val)\n",
      "/Users/camillasancricca/PycharmProjects/KGE_Quality/venv/lib/python3.11/site-packages/ydata_profiling/model/missing.py:78: UserWarning: There was an attempt to generate the Heatmap missing values diagrams, but this failed.\n",
      "To hide this warning, disable the calculation\n",
      "(using `df.profile_report(missing_diagrams={\"Heatmap\": False}`)\n",
      "If this is problematic for your use case, please report this as an issue:\n",
      "https://github.com/ydataai/ydata-profiling/issues\n",
      "(include the error message: 'could not convert string to float: '--'')\n",
      "  warnings.warn(\n"
     ]
    },
    {
     "data": {
      "text/plain": "Generate report structure:   0%|          | 0/1 [00:00<?, ?it/s]",
      "application/vnd.jupyter.widget-view+json": {
       "version_major": 2,
       "version_minor": 0,
       "model_id": "869097a2c5c04cafaf8780930d6f07a1"
      }
     },
     "metadata": {},
     "output_type": "display_data"
    },
    {
     "data": {
      "text/plain": "Render HTML:   0%|          | 0/1 [00:00<?, ?it/s]",
      "application/vnd.jupyter.widget-view+json": {
       "version_major": 2,
       "version_minor": 0,
       "model_id": "d8bc73253de14dafa60517b9c47b9e0a"
      }
     },
     "metadata": {},
     "output_type": "display_data"
    },
    {
     "data": {
      "text/plain": "Export report to file:   0%|          | 0/1 [00:00<?, ?it/s]",
      "application/vnd.jupyter.widget-view+json": {
       "version_major": 2,
       "version_minor": 0,
       "model_id": "402e1067d1d6438c8a2cc67237a15ed6"
      }
     },
     "metadata": {},
     "output_type": "display_data"
    }
   ],
   "source": [
    "import ydata_profiling as yp\n",
    "profile = yp.ProfileReport(new_dataframe)\n",
    "profile.to_file(\"profile.html\")"
   ],
   "metadata": {
    "collapsed": false
   }
  },
  {
   "cell_type": "code",
   "execution_count": null,
   "outputs": [],
   "source": [],
   "metadata": {
    "collapsed": false
   }
  }
 ],
 "metadata": {
  "kernelspec": {
   "display_name": "Python 3",
   "language": "python",
   "name": "python3"
  },
  "language_info": {
   "codemirror_mode": {
    "name": "ipython",
    "version": 2
   },
   "file_extension": ".py",
   "mimetype": "text/x-python",
   "name": "python",
   "nbconvert_exporter": "python",
   "pygments_lexer": "ipython2",
   "version": "2.7.6"
  }
 },
 "nbformat": 4,
 "nbformat_minor": 0
}
