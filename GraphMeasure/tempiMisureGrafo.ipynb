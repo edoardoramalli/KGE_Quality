{
 "cells": [
  {
   "cell_type": "code",
   "execution_count": 1,
   "metadata": {},
   "outputs": [],
   "source": [
    "import igraph as ig\n",
    "import pandas as pd\n",
    "import random\n",
    "import statistics\n",
    "import numpy as np\n",
    "import pickle"
   ]
  },
  {
   "cell_type": "code",
   "execution_count": 2,
   "metadata": {
    "collapsed": false,
    "jupyter": {
     "outputs_hidden": false
    }
   },
   "outputs": [],
   "source": [
    "directed = True\n",
    "\n",
    "kg_path = '../Data_Collection/Datasets_Complete/WN18/Split_0/instance.pickle'\n",
    "\n",
    "with open(kg_path, 'rb') as f:\n",
    "    pick = pickle.load(f)\n"
   ]
  },
  {
   "cell_type": "code",
   "execution_count": 4,
   "metadata": {},
   "outputs": [],
   "source": [
    "dataset = pick['dataset']\n",
    "ll = dataset['training']\n",
    "df = pd.DataFrame(dataset['training'], columns=['h', 'r', 't'])\n",
    "df_no_rel = df[['h', 't']]\n",
    "# df_no_rel = df_no_rel.drop_duplicates()\n",
    "kg = ig.Graph.DataFrame(df_no_rel, directed=directed)"
   ]
  },
  {
   "cell_type": "code",
   "execution_count": 6,
   "metadata": {},
   "outputs": [],
   "source": [
    "p = {}\n",
    "p['graph_metrics'] = {}"
   ]
  },
  {
   "cell_type": "code",
   "execution_count": 10,
   "metadata": {},
   "outputs": [
    {
     "name": "stdout",
     "output_type": "stream",
     "text": [
      "CPU times: user 54 µs, sys: 1 µs, total: 55 µs\n",
      "Wall time: 62 µs\n"
     ]
    }
   ],
   "source": [
    "%%time\n",
    "p['graph_metrics']['order'] = len(kg.vs)\n",
    "p['graph_metrics']['size'] = kg.ecount()\n",
    "p['graph_metrics']['density'] = kg.density()"
   ]
  },
  {
   "cell_type": "code",
   "execution_count": 11,
   "metadata": {},
   "outputs": [
    {
     "name": "stdout",
     "output_type": "stream",
     "text": [
      "CPU times: user 1min 20s, sys: 1.69 s, total: 1min 21s\n",
      "Wall time: 1min 25s\n"
     ]
    }
   ],
   "source": [
    "%%time\n",
    "p['graph_metrics']['diameter'] = kg.diameter(directed=directed)"
   ]
  },
  {
   "cell_type": "code",
   "execution_count": 12,
   "metadata": {},
   "outputs": [
    {
     "name": "stdout",
     "output_type": "stream",
     "text": [
      "CPU times: user 22.9 ms, sys: 5.55 ms, total: 28.4 ms\n",
      "Wall time: 32.2 ms\n"
     ]
    }
   ],
   "source": [
    "%%time\n",
    "p['graph_metrics']['transitivity_undirected'] = kg.transitivity_undirected()"
   ]
  },
  {
   "cell_type": "code",
   "execution_count": 13,
   "metadata": {},
   "outputs": [
    {
     "name": "stdout",
     "output_type": "stream",
     "text": [
      "CPU times: user 57.4 ms, sys: 4.59 ms, total: 62 ms\n",
      "Wall time: 60.7 ms\n"
     ]
    }
   ],
   "source": [
    "%%time\n",
    "\n",
    "p['graph_metrics']['connected_components_weak'] = len(kg.connected_components(mode='weak'))"
   ]
  },
  {
   "cell_type": "code",
   "execution_count": 14,
   "metadata": {},
   "outputs": [
    {
     "name": "stdout",
     "output_type": "stream",
     "text": [
      "CPU times: user 115 ms, sys: 32 ms, total: 147 ms\n",
      "Wall time: 154 ms\n"
     ]
    }
   ],
   "source": [
    "%%time\n",
    "p['graph_metrics']['connected_components_weak_relative_nodes'] = len(\n",
    "    kg.connected_components(mode='weak').giant().vs) / len(kg.vs)\n"
   ]
  },
  {
   "cell_type": "code",
   "execution_count": 15,
   "metadata": {},
   "outputs": [
    {
     "name": "stdout",
     "output_type": "stream",
     "text": [
      "CPU times: user 117 ms, sys: 8.53 ms, total: 126 ms\n",
      "Wall time: 129 ms\n"
     ]
    }
   ],
   "source": [
    "%%time\n",
    "p['graph_metrics']['connected_components_weak_relative_arcs'] = len(\n",
    "    kg.connected_components(mode='weak').giant().es) / len(kg.es)\n"
   ]
  },
  {
   "cell_type": "code",
   "execution_count": 16,
   "metadata": {},
   "outputs": [
    {
     "name": "stdout",
     "output_type": "stream",
     "text": [
      "CPU times: user 205 µs, sys: 299 µs, total: 504 µs\n",
      "Wall time: 4.51 ms\n"
     ]
    }
   ],
   "source": [
    "%%time\n",
    "p['graph_metrics']['girth'] = kg.girth()\n"
   ]
  },
  {
   "cell_type": "code",
   "execution_count": 18,
   "metadata": {},
   "outputs": [
    {
     "name": "stdout",
     "output_type": "stream",
     "text": [
      "CPU times: user 45 µs, sys: 11 µs, total: 56 µs\n",
      "Wall time: 62 µs\n"
     ]
    }
   ],
   "source": [
    "%%time\n",
    "p['graph_metrics']['vertex_connectivity'] = kg.vertex_connectivity()\n",
    "p['graph_metrics']['edge_connectivity'] = kg.edge_connectivity()"
   ]
  },
  {
   "cell_type": "code",
   "execution_count": 20,
   "metadata": {},
   "outputs": [
    {
     "name": "stderr",
     "output_type": "stream",
     "text": [
      "<timed exec>:1: RuntimeWarning: Edge directions are ignored for maximal clique calculation at src/cliques/maximal_cliques.c:220\n"
     ]
    },
    {
     "name": "stdout",
     "output_type": "stream",
     "text": [
      "CPU times: user 338 ms, sys: 11.9 ms, total: 350 ms\n",
      "Wall time: 344 ms\n"
     ]
    }
   ],
   "source": [
    "%%time\n",
    "p['graph_metrics']['clique_number'] = kg.clique_number()\n",
    "p['graph_metrics']['average_degree'] = np.mean(kg.degree())\n",
    "p['graph_metrics']['degree_deciles'] = list(np.quantile(kg.degree(), np.linspace(0., 1., 11)))\n",
    "p['graph_metrics']['average_indegree'] = np.mean(kg.indegree())\n",
    "p['graph_metrics']['indegree_deciles'] = list(np.quantile(kg.indegree(), np.linspace(0., 1., 11)))\n",
    "p['graph_metrics']['average_outdegree'] = np.mean(kg.outdegree())"
   ]
  },
  {
   "cell_type": "code",
   "execution_count": 21,
   "metadata": {},
   "outputs": [
    {
     "name": "stdout",
     "output_type": "stream",
     "text": [
      "CPU times: user 4.73 ms, sys: 338 µs, total: 5.06 ms\n",
      "Wall time: 5.69 ms\n"
     ]
    }
   ],
   "source": [
    "%%time\n",
    "p['graph_metrics']['outdegree_deciles'] = list(np.quantile(kg.outdegree(), np.linspace(0., 1., 11)))\n",
    "\n"
   ]
  },
  {
   "cell_type": "code",
   "execution_count": 22,
   "metadata": {},
   "outputs": [
    {
     "ename": "KeyboardInterrupt",
     "evalue": "",
     "output_type": "error",
     "traceback": [
      "\u001B[0;31m---------------------------------------------------------------------------\u001B[0m",
      "\u001B[0;31mKeyboardInterrupt\u001B[0m                         Traceback (most recent call last)",
      "File \u001B[0;32m<timed exec>:1\u001B[0m\n",
      "\u001B[0;31mKeyboardInterrupt\u001B[0m: "
     ]
    }
   ],
   "source": [
    "%%time\n",
    "p['graph_metrics']['radius'] = kg.radius()\n"
   ]
  },
  {
   "cell_type": "code",
   "execution_count": 23,
   "metadata": {},
   "outputs": [
    {
     "ename": "KeyboardInterrupt",
     "evalue": "",
     "output_type": "error",
     "traceback": [
      "\u001B[0;31m---------------------------------------------------------------------------\u001B[0m",
      "\u001B[0;31mKeyboardInterrupt\u001B[0m                         Traceback (most recent call last)",
      "File \u001B[0;32m<timed exec>:1\u001B[0m\n",
      "\u001B[0;31mKeyboardInterrupt\u001B[0m: "
     ]
    }
   ],
   "source": [
    "%%time\n",
    "p['graph_metrics']['average_path_length'] = kg.average_path_length()\n",
    "\n"
   ]
  },
  {
   "cell_type": "code",
   "execution_count": 24,
   "metadata": {},
   "outputs": [
    {
     "ename": "KeyboardInterrupt",
     "evalue": "",
     "output_type": "error",
     "traceback": [
      "\u001B[0;31m---------------------------------------------------------------------------\u001B[0m",
      "\u001B[0;31mKeyboardInterrupt\u001B[0m                         Traceback (most recent call last)",
      "File \u001B[0;32m<timed exec>:2\u001B[0m\n",
      "\u001B[0;31mKeyboardInterrupt\u001B[0m: "
     ]
    }
   ],
   "source": [
    "%%time\n",
    "p['graph_metrics']['assortativity_degree'] = kg.assortativity_degree()\n",
    "\n"
   ]
  },
  {
   "cell_type": "code",
   "execution_count": 25,
   "metadata": {},
   "outputs": [
    {
     "name": "stdout",
     "output_type": "stream",
     "text": [
      "CPU times: user 1min 21s, sys: 1.44 s, total: 1min 23s\n",
      "Wall time: 1min 24s\n"
     ]
    }
   ],
   "source": [
    "%%time\n",
    "ecc = kg.eccentricity()\n",
    "p['graph_metrics']['mean_eccentricity'] = np.mean(ecc)\n",
    "p['graph_metrics']['eccentricity_deciles'] = list(np.quantile(ecc, np.linspace(0., 1., 11)))\n"
   ]
  },
  {
   "cell_type": "code",
   "execution_count": null,
   "metadata": {},
   "outputs": [],
   "source": [
    "%%time\n",
    "\n"
   ]
  },
  {
   "cell_type": "code",
   "execution_count": null,
   "metadata": {},
   "outputs": [],
   "source": [
    "%%time\n",
    "\n"
   ]
  },
  {
   "cell_type": "code",
   "execution_count": null,
   "metadata": {},
   "outputs": [],
   "source": [
    "%%time\n",
    "\n"
   ]
  },
  {
   "cell_type": "code",
   "execution_count": null,
   "metadata": {},
   "outputs": [],
   "source": [
    "%%time\n",
    "\n"
   ]
  },
  {
   "cell_type": "code",
   "execution_count": null,
   "metadata": {},
   "outputs": [],
   "source": [
    "%%time\n",
    "\n"
   ]
  }
 ],
 "metadata": {
  "kernelspec": {
   "display_name": "Python 3 (ipykernel)",
   "language": "python",
   "name": "python3"
  },
  "language_info": {
   "codemirror_mode": {
    "name": "ipython",
    "version": 3
   },
   "file_extension": ".py",
   "mimetype": "text/x-python",
   "name": "python",
   "nbconvert_exporter": "python",
   "pygments_lexer": "ipython3",
   "version": "3.10.13"
  }
 },
 "nbformat": 4,
 "nbformat_minor": 4
}
