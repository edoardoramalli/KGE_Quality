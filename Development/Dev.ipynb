{
 "cells": [
  {
   "cell_type": "code",
   "execution_count": 3,
   "id": "9a8403e4-a381-42bc-b2d9-ed866f6d07ad",
   "metadata": {},
   "outputs": [],
   "source": [
    "import pickle\n",
    "\n",
    "directed = True"
   ]
  },
  {
   "cell_type": "code",
   "execution_count": 4,
   "id": "244fa035-ca17-4cc2-be84-3c9c4369fde8",
   "metadata": {},
   "outputs": [],
   "source": [
    "path = '../Training/DONE/WN18RR_1_RotatE_degree_0.1/instance.pickle'"
   ]
  },
  {
   "cell_type": "code",
   "execution_count": 5,
   "id": "a15d8c35-481b-4c2c-9c9d-0ae7b04c448f",
   "metadata": {},
   "outputs": [],
   "source": [
    "with open(path, 'rb') as f:\n",
    "    pick = pickle.load(f)"
   ]
  },
  {
   "cell_type": "code",
   "execution_count": 6,
   "id": "d1ccd23f-06cf-4dfb-a50b-7743b9eadff5",
   "metadata": {},
   "outputs": [
    {
     "data": {
      "text/plain": [
       "dict_keys(['dataset', 'c_split', 'model', 'entity_to_id', 'relation_to_id', 'training', 'validation', 'testing', 'min_testing', 'property', 'value', 'max_top_min_test_set', 'max_bottom_min_test_set', 'HP', 'SETTINGS', 'results', 'results_min', 'trackers', 'graph_metrics'])"
      ]
     },
     "execution_count": 6,
     "metadata": {},
     "output_type": "execute_result"
    }
   ],
   "source": [
    "pick.keys()"
   ]
  },
  {
   "cell_type": "code",
   "execution_count": 7,
   "id": "468a743a-1994-487b-b027-6cc060caebdd",
   "metadata": {
    "scrolled": true
   },
   "outputs": [
    {
     "data": {
      "text/plain": [
       "{'directed': True,\n",
       " 'order': 40559,\n",
       " 'size': 25881,\n",
       " 'density': 1.5733207959181698e-05,\n",
       " 'diameter': 17,\n",
       " 'transitivity_undirected': 0.03390166534496431,\n",
       " 'connected_components_weak': 19970,\n",
       " 'connected_components_weak_relative_nodes': 0.022214551640819546,\n",
       " 'connected_components_weak_relative_arcs': 0.04424094895869557,\n",
       " 'girth': 3,\n",
       " 'vertex_connectivity': 0,\n",
       " 'edge_connectivity': 0,\n",
       " 'clique_number': 4,\n",
       " 'average_degree': 1.2762148968169826,\n",
       " 'max_degree': 7,\n",
       " 'degree_deciles': [0.0, 0.0, 0.0, 0.0, 1.0, 1.0, 1.0, 2.0, 2.0, 3.0, 7.0],\n",
       " 'average_indegree': 0.6381074484084913,\n",
       " 'indegree_deciles': [0.0, 0.0, 0.0, 0.0, 0.0, 0.0, 1.0, 1.0, 1.0, 2.0, 6.0],\n",
       " 'average_outdegree': 0.6381074484084913,\n",
       " 'outdegree_deciles': [0.0, 0.0, 0.0, 0.0, 0.0, 0.0, 1.0, 1.0, 1.0, 2.0, 6.0],\n",
       " 'radius': 0,\n",
       " 'average_path_length': 2.3372280551624263,\n",
       " 'assortativity_degree': -0.12256865970981255,\n",
       " 'mean_eccentricity': 1.10673340072487,\n",
       " 'eccentricity_deciles': [0.0,\n",
       "  0.0,\n",
       "  0.0,\n",
       "  0.0,\n",
       "  0.0,\n",
       "  0.0,\n",
       "  1.0,\n",
       "  1.0,\n",
       "  2.0,\n",
       "  3.0,\n",
       "  17.0],\n",
       " 'centralization': 0.0002547656139705122}"
      ]
     },
     "execution_count": 7,
     "metadata": {},
     "output_type": "execute_result"
    }
   ],
   "source": [
    "pick['graph_metrics']"
   ]
  },
  {
   "cell_type": "code",
   "execution_count": null,
   "id": "2dd745a9-1d18-4505-9c8c-cb9108f8a3b7",
   "metadata": {},
   "outputs": [],
   "source": []
  }
 ],
 "metadata": {
  "kernelspec": {
   "display_name": "Python 3 (ipykernel)",
   "language": "python",
   "name": "python3"
  },
  "language_info": {
   "codemirror_mode": {
    "name": "ipython",
    "version": 3
   },
   "file_extension": ".py",
   "mimetype": "text/x-python",
   "name": "python",
   "nbconvert_exporter": "python",
   "pygments_lexer": "ipython3",
   "version": "3.10.13"
  }
 },
 "nbformat": 4,
 "nbformat_minor": 5
}
