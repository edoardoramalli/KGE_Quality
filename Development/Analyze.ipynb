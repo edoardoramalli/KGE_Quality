{
 "cells": [
  {
   "cell_type": "code",
   "execution_count": 2,
   "metadata": {},
   "outputs": [],
   "source": [
    "import pandas as pd\n",
    "import numpy as np"
   ]
  },
  {
   "cell_type": "code",
   "execution_count": 3,
   "metadata": {},
   "outputs": [],
   "source": [
    "df = pd.read_csv('giant_matrix_2023_12_12.csv')\n"
   ]
  },
  {
   "cell_type": "code",
   "execution_count": 9,
   "metadata": {},
   "outputs": [
    {
     "data": {
      "text/plain": [
       "Index(['dataset', 'c_split', 'model', 'property', 'value',\n",
       "       'results_hits_at_10', 'results_hits_at_5', 'results_hits_at_3',\n",
       "       'results_hits_at_1', 'results_inverse_harmonic_mean_rank',\n",
       "       'results_arithmetic_mean_rank', 'results_min_hits_at_10',\n",
       "       'results_min_hits_at_5', 'results_min_hits_at_3',\n",
       "       'results_min_hits_at_1', 'training_gpu_power', 'training_duration',\n",
       "       'prediction_gpu_power', 'prediction_duration', 'directed', 'order',\n",
       "       'size', 'density', 'diameter', 'transitivity_undirected',\n",
       "       'connected_components_weak', 'connected_components_weak_relative_nodes',\n",
       "       'connected_components_weak_relative_arcs', 'girth',\n",
       "       'vertex_connectivity', 'edge_connectivity', 'clique_number',\n",
       "       'average_degree', 'max_degree', 'degree_deciles', 'average_indegree',\n",
       "       'indegree_deciles', 'average_outdegree', 'outdegree_deciles', 'radius',\n",
       "       'average_path_length', 'assortativity_degree', 'mean_eccentricity',\n",
       "       'eccentricity_deciles', 'centralization'],\n",
       "      dtype='object')"
      ]
     },
     "execution_count": 9,
     "metadata": {},
     "output_type": "execute_result"
    }
   ],
   "source": [
    "df.columns"
   ]
  },
  {
   "cell_type": "code",
   "execution_count": 4,
   "metadata": {},
   "outputs": [],
   "source": [
    "a = df[df['property'] == 'baseline'].groupby(by=['dataset', 'model'])[['results_hits_at_1', 'results_hits_at_10']].mean()"
   ]
  },
  {
   "cell_type": "code",
   "execution_count": 7,
   "metadata": {},
   "outputs": [
    {
     "data": {
      "text/html": [
       "<div>\n",
       "<style scoped>\n",
       "    .dataframe tbody tr th:only-of-type {\n",
       "        vertical-align: middle;\n",
       "    }\n",
       "\n",
       "    .dataframe tbody tr th {\n",
       "        vertical-align: top;\n",
       "    }\n",
       "\n",
       "    .dataframe thead th {\n",
       "        text-align: right;\n",
       "    }\n",
       "</style>\n",
       "<table border=\"1\" class=\"dataframe\">\n",
       "  <thead>\n",
       "    <tr style=\"text-align: right;\">\n",
       "      <th></th>\n",
       "      <th>dataset</th>\n",
       "      <th>model</th>\n",
       "      <th>results_hits_at_1</th>\n",
       "      <th>results_hits_at_10</th>\n",
       "    </tr>\n",
       "  </thead>\n",
       "  <tbody>\n",
       "    <tr>\n",
       "      <th>0</th>\n",
       "      <td>FB15k</td>\n",
       "      <td>RotatE</td>\n",
       "      <td>0.596493</td>\n",
       "      <td>0.843611</td>\n",
       "    </tr>\n",
       "    <tr>\n",
       "      <th>1</th>\n",
       "      <td>FB15k</td>\n",
       "      <td>TransE</td>\n",
       "      <td>0.418248</td>\n",
       "      <td>0.781390</td>\n",
       "    </tr>\n",
       "    <tr>\n",
       "      <th>2</th>\n",
       "      <td>FB15k237</td>\n",
       "      <td>RotatE</td>\n",
       "      <td>0.224867</td>\n",
       "      <td>0.571218</td>\n",
       "    </tr>\n",
       "    <tr>\n",
       "      <th>3</th>\n",
       "      <td>FB15k237</td>\n",
       "      <td>TransE</td>\n",
       "      <td>0.208032</td>\n",
       "      <td>0.589988</td>\n",
       "    </tr>\n",
       "    <tr>\n",
       "      <th>4</th>\n",
       "      <td>WN18</td>\n",
       "      <td>ComplEx</td>\n",
       "      <td>0.698019</td>\n",
       "      <td>0.786706</td>\n",
       "    </tr>\n",
       "    <tr>\n",
       "      <th>5</th>\n",
       "      <td>WN18</td>\n",
       "      <td>RotatE</td>\n",
       "      <td>0.814911</td>\n",
       "      <td>0.832871</td>\n",
       "    </tr>\n",
       "    <tr>\n",
       "      <th>6</th>\n",
       "      <td>WN18</td>\n",
       "      <td>TransE</td>\n",
       "      <td>0.330417</td>\n",
       "      <td>0.847188</td>\n",
       "    </tr>\n",
       "    <tr>\n",
       "      <th>7</th>\n",
       "      <td>WN18RR</td>\n",
       "      <td>ComplEx</td>\n",
       "      <td>0.346510</td>\n",
       "      <td>0.488786</td>\n",
       "    </tr>\n",
       "    <tr>\n",
       "      <th>8</th>\n",
       "      <td>WN18RR</td>\n",
       "      <td>RotatE</td>\n",
       "      <td>0.324765</td>\n",
       "      <td>0.385805</td>\n",
       "    </tr>\n",
       "    <tr>\n",
       "      <th>9</th>\n",
       "      <td>WN18RR</td>\n",
       "      <td>TransE</td>\n",
       "      <td>0.045955</td>\n",
       "      <td>0.451939</td>\n",
       "    </tr>\n",
       "    <tr>\n",
       "      <th>10</th>\n",
       "      <td>YAGO310</td>\n",
       "      <td>RotatE</td>\n",
       "      <td>0.277971</td>\n",
       "      <td>0.559350</td>\n",
       "    </tr>\n",
       "    <tr>\n",
       "      <th>11</th>\n",
       "      <td>YAGO310</td>\n",
       "      <td>TransE</td>\n",
       "      <td>0.290231</td>\n",
       "      <td>0.586970</td>\n",
       "    </tr>\n",
       "  </tbody>\n",
       "</table>\n",
       "</div>"
      ],
      "text/plain": [
       "     dataset    model  results_hits_at_1  results_hits_at_10\n",
       "0      FB15k   RotatE           0.596493            0.843611\n",
       "1      FB15k   TransE           0.418248            0.781390\n",
       "2   FB15k237   RotatE           0.224867            0.571218\n",
       "3   FB15k237   TransE           0.208032            0.589988\n",
       "4       WN18  ComplEx           0.698019            0.786706\n",
       "5       WN18   RotatE           0.814911            0.832871\n",
       "6       WN18   TransE           0.330417            0.847188\n",
       "7     WN18RR  ComplEx           0.346510            0.488786\n",
       "8     WN18RR   RotatE           0.324765            0.385805\n",
       "9     WN18RR   TransE           0.045955            0.451939\n",
       "10   YAGO310   RotatE           0.277971            0.559350\n",
       "11   YAGO310   TransE           0.290231            0.586970"
      ]
     },
     "execution_count": 7,
     "metadata": {},
     "output_type": "execute_result"
    }
   ],
   "source": [
    "a.reset_index()"
   ]
  },
  {
   "cell_type": "code",
   "execution_count": null,
   "metadata": {},
   "outputs": [],
   "source": []
  }
 ],
 "metadata": {
  "kernelspec": {
   "display_name": "Python 3 (ipykernel)",
   "language": "python",
   "name": "python3"
  },
  "language_info": {
   "codemirror_mode": {
    "name": "ipython",
    "version": 3
   },
   "file_extension": ".py",
   "mimetype": "text/x-python",
   "name": "python",
   "nbconvert_exporter": "python",
   "pygments_lexer": "ipython3",
   "version": "3.10.13"
  }
 },
 "nbformat": 4,
 "nbformat_minor": 4
}
